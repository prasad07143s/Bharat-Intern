{
 "cells": [
  {
   "attachments": {},
   "cell_type": "markdown",
   "id": "6b3ef0f7",
   "metadata": {},
   "source": [
    "### Task : Iris Flowers Classification\n",
    "\n",
    "##### Predict the different species of flowers on the length of their petals and sepals.\n"
   ]
  },
  {
   "attachments": {},
   "cell_type": "markdown",
   "id": "0e52d0a2",
   "metadata": {},
   "source": [
    "### _Type of Classification_ : Multiclass\n",
    "\n",
    "#### _Input_ : sepal length (cm), sepal width (cm), petal length (cm), petal width (cm)\n",
    "\n",
    "#### _Output_ : Class of Flower ( Setosa (0), Versicolor (1), Virginica (2) )\n"
   ]
  },
  {
   "attachments": {},
   "cell_type": "markdown",
   "id": "769577f5",
   "metadata": {},
   "source": [
    "### Importing the necessary modules\n"
   ]
  },
  {
   "cell_type": "code",
   "execution_count": 75,
   "id": "fdc6b772",
   "metadata": {},
   "outputs": [],
   "source": [
    "import numpy as np\n",
    "import pandas as pd\n",
    "import matplotlib.pyplot as plt\n",
    "import seaborn as sns\n",
    "from sklearn import linear_model, neighbors, ensemble, naive_bayes, datasets, \\\n",
    "metrics, preprocessing, model_selection, pipeline, base"
   ]
  },
  {
   "attachments": {},
   "cell_type": "markdown",
   "id": "c3edf06f",
   "metadata": {},
   "source": [
    "### Collecting and Analyzing the Data\n"
   ]
  },
  {
   "cell_type": "code",
   "execution_count": 76,
   "id": "f83d4742",
   "metadata": {},
   "outputs": [
    {
     "name": "stdout",
     "output_type": "stream",
     "text": [
      "['DESCR', 'data', 'data_module', 'feature_names', 'filename', 'frame', 'target', 'target_names']\n"
     ]
    }
   ],
   "source": [
    "data = datasets.load_iris()\n",
    "print(dir(data))"
   ]
  },
  {
   "cell_type": "code",
   "execution_count": 77,
   "id": "7c050f83",
   "metadata": {},
   "outputs": [
    {
     "data": {
      "text/html": [
       "<div>\n",
       "<style scoped>\n",
       "    .dataframe tbody tr th:only-of-type {\n",
       "        vertical-align: middle;\n",
       "    }\n",
       "\n",
       "    .dataframe tbody tr th {\n",
       "        vertical-align: top;\n",
       "    }\n",
       "\n",
       "    .dataframe thead th {\n",
       "        text-align: right;\n",
       "    }\n",
       "</style>\n",
       "<table border=\"1\" class=\"dataframe\">\n",
       "  <thead>\n",
       "    <tr style=\"text-align: right;\">\n",
       "      <th></th>\n",
       "      <th>sepal length (cm)</th>\n",
       "      <th>sepal width (cm)</th>\n",
       "      <th>petal length (cm)</th>\n",
       "      <th>petal width (cm)</th>\n",
       "      <th>target</th>\n",
       "      <th>label</th>\n",
       "    </tr>\n",
       "  </thead>\n",
       "  <tbody>\n",
       "    <tr>\n",
       "      <th>0</th>\n",
       "      <td>5.1</td>\n",
       "      <td>3.5</td>\n",
       "      <td>1.4</td>\n",
       "      <td>0.2</td>\n",
       "      <td>0</td>\n",
       "      <td>setosa</td>\n",
       "    </tr>\n",
       "    <tr>\n",
       "      <th>1</th>\n",
       "      <td>4.9</td>\n",
       "      <td>3.0</td>\n",
       "      <td>1.4</td>\n",
       "      <td>0.2</td>\n",
       "      <td>0</td>\n",
       "      <td>setosa</td>\n",
       "    </tr>\n",
       "    <tr>\n",
       "      <th>2</th>\n",
       "      <td>4.7</td>\n",
       "      <td>3.2</td>\n",
       "      <td>1.3</td>\n",
       "      <td>0.2</td>\n",
       "      <td>0</td>\n",
       "      <td>setosa</td>\n",
       "    </tr>\n",
       "    <tr>\n",
       "      <th>3</th>\n",
       "      <td>4.6</td>\n",
       "      <td>3.1</td>\n",
       "      <td>1.5</td>\n",
       "      <td>0.2</td>\n",
       "      <td>0</td>\n",
       "      <td>setosa</td>\n",
       "    </tr>\n",
       "    <tr>\n",
       "      <th>4</th>\n",
       "      <td>5.0</td>\n",
       "      <td>3.6</td>\n",
       "      <td>1.4</td>\n",
       "      <td>0.2</td>\n",
       "      <td>0</td>\n",
       "      <td>setosa</td>\n",
       "    </tr>\n",
       "  </tbody>\n",
       "</table>\n",
       "</div>"
      ],
      "text/plain": [
       "   sepal length (cm)  sepal width (cm)  petal length (cm)  petal width (cm)  \\\n",
       "0                5.1               3.5                1.4               0.2   \n",
       "1                4.9               3.0                1.4               0.2   \n",
       "2                4.7               3.2                1.3               0.2   \n",
       "3                4.6               3.1                1.5               0.2   \n",
       "4                5.0               3.6                1.4               0.2   \n",
       "\n",
       "   target   label  \n",
       "0       0  setosa  \n",
       "1       0  setosa  \n",
       "2       0  setosa  \n",
       "3       0  setosa  \n",
       "4       0  setosa  "
      ]
     },
     "execution_count": 77,
     "metadata": {},
     "output_type": "execute_result"
    }
   ],
   "source": [
    "# Converting data into a data frame (for analysis)\n",
    "\n",
    "df = pd.DataFrame(data.data, columns = data.feature_names)\n",
    "df['target'] = data.target\n",
    "df['label'] = data.target_names[data.target]\n",
    "\n",
    "df.head()"
   ]
  },
  {
   "cell_type": "code",
   "execution_count": 4,
   "id": "0b5ab9b6",
   "metadata": {},
   "outputs": [
    {
     "name": "stdout",
     "output_type": "stream",
     "text": [
      "Number of instances : 150\n",
      "Number of features : 6\n"
     ]
    }
   ],
   "source": [
    "n_samples, n_features = df.shape\n",
    "\n",
    "print(\"Number of instances :\", n_samples)\n",
    "print(\"Number of features :\", n_features)"
   ]
  },
  {
   "cell_type": "code",
   "execution_count": 5,
   "id": "8f9f3c82",
   "metadata": {},
   "outputs": [
    {
     "name": "stdout",
     "output_type": "stream",
     "text": [
      "<class 'pandas.core.frame.DataFrame'>\n",
      "RangeIndex: 150 entries, 0 to 149\n",
      "Data columns (total 6 columns):\n",
      " #   Column             Non-Null Count  Dtype  \n",
      "---  ------             --------------  -----  \n",
      " 0   sepal length (cm)  150 non-null    float64\n",
      " 1   sepal width (cm)   150 non-null    float64\n",
      " 2   petal length (cm)  150 non-null    float64\n",
      " 3   petal width (cm)   150 non-null    float64\n",
      " 4   target             150 non-null    int32  \n",
      " 5   label              150 non-null    object \n",
      "dtypes: float64(4), int32(1), object(1)\n",
      "memory usage: 6.6+ KB\n"
     ]
    }
   ],
   "source": [
    "df.info()"
   ]
  },
  {
   "cell_type": "code",
   "execution_count": 6,
   "id": "830a8bdf",
   "metadata": {},
   "outputs": [
    {
     "data": {
      "text/plain": [
       "0    50\n",
       "1    50\n",
       "2    50\n",
       "Name: target, dtype: int64"
      ]
     },
     "execution_count": 6,
     "metadata": {},
     "output_type": "execute_result"
    }
   ],
   "source": [
    "# Number of instances of each class\n",
    "\n",
    "df['target'].value_counts()"
   ]
  },
  {
   "cell_type": "code",
   "execution_count": 7,
   "id": "05e51a77",
   "metadata": {},
   "outputs": [
    {
     "name": "stdout",
     "output_type": "stream",
     "text": [
      "Is there any missing data : False\n"
     ]
    }
   ],
   "source": [
    "# Checking for missing values in the data\n",
    "\n",
    "print(\"Is there any missing data :\", any(np.sum(df.isna())))"
   ]
  },
  {
   "cell_type": "code",
   "execution_count": 8,
   "id": "2cf08ef4",
   "metadata": {},
   "outputs": [
    {
     "name": "stdout",
     "output_type": "stream",
     "text": [
      "Is there any duplicated data : True\n"
     ]
    }
   ],
   "source": [
    "# Checking for duplicates\n",
    "\n",
    "print(\"Is there any duplicated data :\", any(df.duplicated()))"
   ]
  },
  {
   "cell_type": "code",
   "execution_count": 9,
   "id": "7ad83467",
   "metadata": {},
   "outputs": [],
   "source": [
    "# Dropping duplicated data\n",
    "\n",
    "df.drop_duplicates(inplace = True)"
   ]
  },
  {
   "cell_type": "code",
   "execution_count": 10,
   "id": "14ac8a74",
   "metadata": {},
   "outputs": [
    {
     "name": "stdout",
     "output_type": "stream",
     "text": [
      "Dimensions of the data frame : (149, 6)\n"
     ]
    }
   ],
   "source": [
    "print(\"Dimensions of the data frame :\", df.shape)"
   ]
  },
  {
   "cell_type": "code",
   "execution_count": 11,
   "id": "32ac1bdc",
   "metadata": {},
   "outputs": [
    {
     "data": {
      "text/html": [
       "<div>\n",
       "<style scoped>\n",
       "    .dataframe tbody tr th:only-of-type {\n",
       "        vertical-align: middle;\n",
       "    }\n",
       "\n",
       "    .dataframe tbody tr th {\n",
       "        vertical-align: top;\n",
       "    }\n",
       "\n",
       "    .dataframe thead th {\n",
       "        text-align: right;\n",
       "    }\n",
       "</style>\n",
       "<table border=\"1\" class=\"dataframe\">\n",
       "  <thead>\n",
       "    <tr style=\"text-align: right;\">\n",
       "      <th></th>\n",
       "      <th>sepal length (cm)</th>\n",
       "      <th>sepal width (cm)</th>\n",
       "      <th>petal length (cm)</th>\n",
       "      <th>petal width (cm)</th>\n",
       "      <th>target</th>\n",
       "    </tr>\n",
       "  </thead>\n",
       "  <tbody>\n",
       "    <tr>\n",
       "      <th>count</th>\n",
       "      <td>149.000000</td>\n",
       "      <td>149.000000</td>\n",
       "      <td>149.000000</td>\n",
       "      <td>149.000000</td>\n",
       "      <td>149.000000</td>\n",
       "    </tr>\n",
       "    <tr>\n",
       "      <th>mean</th>\n",
       "      <td>5.843624</td>\n",
       "      <td>3.059732</td>\n",
       "      <td>3.748993</td>\n",
       "      <td>1.194631</td>\n",
       "      <td>0.993289</td>\n",
       "    </tr>\n",
       "    <tr>\n",
       "      <th>std</th>\n",
       "      <td>0.830851</td>\n",
       "      <td>0.436342</td>\n",
       "      <td>1.767791</td>\n",
       "      <td>0.762622</td>\n",
       "      <td>0.817847</td>\n",
       "    </tr>\n",
       "    <tr>\n",
       "      <th>min</th>\n",
       "      <td>4.300000</td>\n",
       "      <td>2.000000</td>\n",
       "      <td>1.000000</td>\n",
       "      <td>0.100000</td>\n",
       "      <td>0.000000</td>\n",
       "    </tr>\n",
       "    <tr>\n",
       "      <th>25%</th>\n",
       "      <td>5.100000</td>\n",
       "      <td>2.800000</td>\n",
       "      <td>1.600000</td>\n",
       "      <td>0.300000</td>\n",
       "      <td>0.000000</td>\n",
       "    </tr>\n",
       "    <tr>\n",
       "      <th>50%</th>\n",
       "      <td>5.800000</td>\n",
       "      <td>3.000000</td>\n",
       "      <td>4.300000</td>\n",
       "      <td>1.300000</td>\n",
       "      <td>1.000000</td>\n",
       "    </tr>\n",
       "    <tr>\n",
       "      <th>75%</th>\n",
       "      <td>6.400000</td>\n",
       "      <td>3.300000</td>\n",
       "      <td>5.100000</td>\n",
       "      <td>1.800000</td>\n",
       "      <td>2.000000</td>\n",
       "    </tr>\n",
       "    <tr>\n",
       "      <th>max</th>\n",
       "      <td>7.900000</td>\n",
       "      <td>4.400000</td>\n",
       "      <td>6.900000</td>\n",
       "      <td>2.500000</td>\n",
       "      <td>2.000000</td>\n",
       "    </tr>\n",
       "  </tbody>\n",
       "</table>\n",
       "</div>"
      ],
      "text/plain": [
       "       sepal length (cm)  sepal width (cm)  petal length (cm)  \\\n",
       "count         149.000000        149.000000         149.000000   \n",
       "mean            5.843624          3.059732           3.748993   \n",
       "std             0.830851          0.436342           1.767791   \n",
       "min             4.300000          2.000000           1.000000   \n",
       "25%             5.100000          2.800000           1.600000   \n",
       "50%             5.800000          3.000000           4.300000   \n",
       "75%             6.400000          3.300000           5.100000   \n",
       "max             7.900000          4.400000           6.900000   \n",
       "\n",
       "       petal width (cm)      target  \n",
       "count        149.000000  149.000000  \n",
       "mean           1.194631    0.993289  \n",
       "std            0.762622    0.817847  \n",
       "min            0.100000    0.000000  \n",
       "25%            0.300000    0.000000  \n",
       "50%            1.300000    1.000000  \n",
       "75%            1.800000    2.000000  \n",
       "max            2.500000    2.000000  "
      ]
     },
     "execution_count": 11,
     "metadata": {},
     "output_type": "execute_result"
    }
   ],
   "source": [
    "df.describe()"
   ]
  },
  {
   "cell_type": "code",
   "execution_count": 12,
   "id": "f8d0afd3",
   "metadata": {},
   "outputs": [
    {
     "data": {
      "text/html": [
       "<div>\n",
       "<style scoped>\n",
       "    .dataframe tbody tr th:only-of-type {\n",
       "        vertical-align: middle;\n",
       "    }\n",
       "\n",
       "    .dataframe tbody tr th {\n",
       "        vertical-align: top;\n",
       "    }\n",
       "\n",
       "    .dataframe thead th {\n",
       "        text-align: right;\n",
       "    }\n",
       "</style>\n",
       "<table border=\"1\" class=\"dataframe\">\n",
       "  <thead>\n",
       "    <tr style=\"text-align: right;\">\n",
       "      <th></th>\n",
       "      <th>sepal length (cm)</th>\n",
       "      <th>sepal width (cm)</th>\n",
       "      <th>petal length (cm)</th>\n",
       "      <th>petal width (cm)</th>\n",
       "    </tr>\n",
       "  </thead>\n",
       "  <tbody>\n",
       "    <tr>\n",
       "      <th>sepal length (cm)</th>\n",
       "      <td>1.000000</td>\n",
       "      <td>-0.118129</td>\n",
       "      <td>0.873738</td>\n",
       "      <td>0.820620</td>\n",
       "    </tr>\n",
       "    <tr>\n",
       "      <th>sepal width (cm)</th>\n",
       "      <td>-0.118129</td>\n",
       "      <td>1.000000</td>\n",
       "      <td>-0.426028</td>\n",
       "      <td>-0.362894</td>\n",
       "    </tr>\n",
       "    <tr>\n",
       "      <th>petal length (cm)</th>\n",
       "      <td>0.873738</td>\n",
       "      <td>-0.426028</td>\n",
       "      <td>1.000000</td>\n",
       "      <td>0.962772</td>\n",
       "    </tr>\n",
       "    <tr>\n",
       "      <th>petal width (cm)</th>\n",
       "      <td>0.820620</td>\n",
       "      <td>-0.362894</td>\n",
       "      <td>0.962772</td>\n",
       "      <td>1.000000</td>\n",
       "    </tr>\n",
       "  </tbody>\n",
       "</table>\n",
       "</div>"
      ],
      "text/plain": [
       "                   sepal length (cm)  sepal width (cm)  petal length (cm)  \\\n",
       "sepal length (cm)           1.000000         -0.118129           0.873738   \n",
       "sepal width (cm)           -0.118129          1.000000          -0.426028   \n",
       "petal length (cm)           0.873738         -0.426028           1.000000   \n",
       "petal width (cm)            0.820620         -0.362894           0.962772   \n",
       "\n",
       "                   petal width (cm)  \n",
       "sepal length (cm)          0.820620  \n",
       "sepal width (cm)          -0.362894  \n",
       "petal length (cm)          0.962772  \n",
       "petal width (cm)           1.000000  "
      ]
     },
     "execution_count": 12,
     "metadata": {},
     "output_type": "execute_result"
    }
   ],
   "source": [
    "# Correlation Matrix (Pearson Correlation Co-efficient)\n",
    "\n",
    "corr_matrix = df.iloc[:, :-2].corr()\n",
    "corr_matrix"
   ]
  },
  {
   "cell_type": "code",
   "execution_count": 13,
   "id": "118519e9",
   "metadata": {},
   "outputs": [
    {
     "data": {
      "image/png": "[encoded data removed]",
      "text/plain": [
       "<Figure size 432x288 with 2 Axes>"
      ]
     },
     "metadata": {
      "needs_background": "light"
     },
     "output_type": "display_data"
    }
   ],
   "source": [
    "# Visualizing the correlation matrix with a heatmap\n",
    "\n",
    "sns.heatmap(corr_matrix, annot = True)\n",
    "plt.show()"
   ]
  },
  {
   "cell_type": "code",
   "execution_count": 14,
   "id": "97f5d632",
   "metadata": {},
   "outputs": [
    {
     "data": {
      "text/plain": [
       "petal length (cm)    1.000000\n",
       "petal width (cm)     0.962772\n",
       "sepal length (cm)    0.873738\n",
       "sepal width (cm)    -0.426028\n",
       "Name: petal length (cm), dtype: float64"
      ]
     },
     "execution_count": 14,
     "metadata": {},
     "output_type": "execute_result"
    }
   ],
   "source": [
    "# Correlation of every feature with 'petal length (cm)' (in decreasing order)\n",
    "\n",
    "corr_with_pl = corr_matrix['petal length (cm)'].sort_values(ascending = False)\n",
    "corr_with_pl"
   ]
  },
  {
   "cell_type": "code",
   "execution_count": 15,
   "id": "4364d7f9",
   "metadata": {},
   "outputs": [],
   "source": [
    "num_attr = np.array(corr_with_pl.keys())\n",
    "target, label = 'target', 'label'"
   ]
  },
  {
   "cell_type": "code",
   "execution_count": 16,
   "id": "b478c97e",
   "metadata": {},
   "outputs": [
    {
     "name": "stdout",
     "output_type": "stream",
     "text": [
      "(50, 6) (50, 6) (49, 6)\n"
     ]
    }
   ],
   "source": [
    "# Seperating the classes \n",
    "\n",
    "df0 = df.iloc[np.where(df[target] == 0)]\n",
    "df1 = df[df[target] == 1]\n",
    "df2 = df[df[target] == 2]\n",
    "\n",
    "print(df0.shape, df1.shape, df2.shape)"
   ]
  },
  {
   "attachments": {},
   "cell_type": "markdown",
   "id": "6716e060",
   "metadata": {},
   "source": [
    "### Data Visualization\n"
   ]
  },
  {
   "cell_type": "code",
   "execution_count": 17,
   "id": "b2be5969",
   "metadata": {},
   "outputs": [
    {
     "data": {
      "image/png": "[encoded data removed]",
      "text/plain": [
       "<Figure size 432x288 with 1 Axes>"
      ]
     },
     "metadata": {
      "needs_background": "light"
     },
     "output_type": "display_data"
    }
   ],
   "source": [
    "# Count Plot\n",
    "\n",
    "sns.countplot(x = label, data = df)\n",
    "plt.show()"
   ]
  },
  {
   "cell_type": "code",
   "execution_count": 18,
   "id": "91d5eab3",
   "metadata": {},
   "outputs": [
    {
     "name": "stdout",
     "output_type": "stream",
     "text": [
      "Correlation Co-efficient - petal length (cm) vs petal width (cm) : -0.11812926214116291\n"
     ]
    },
    {
     "data": {
      "image/png": "[encoded data removed]",
      "text/plain": [
       "<Figure size 432x288 with 1 Axes>"
      ]
     },
     "metadata": {
      "needs_background": "light"
     },
     "output_type": "display_data"
    },
    {
     "name": "stdout",
     "output_type": "stream",
     "text": [
      "Correlation Co-efficient - petal length (cm) vs sepal length (cm) : 0.8737381423229723\n"
     ]
    },
    {
     "data": {
      "image/png": "[encoded data removed]",
      "text/plain": [
       "<Figure size 432x288 with 1 Axes>"
      ]
     },
     "metadata": {
      "needs_background": "light"
     },
     "output_type": "display_data"
    },
    {
     "name": "stdout",
     "output_type": "stream",
     "text": [
      "Correlation Co-efficient - petal length (cm) vs sepal width (cm) : 0.8206195219861115\n"
     ]
    },
    {
     "data": {
      "image/png": "[encoded data removed]",
      "text/plain": [
       "<Figure size 432x288 with 1 Axes>"
      ]
     },
     "metadata": {
      "needs_background": "light"
     },
     "output_type": "display_data"
    },
    {
     "name": "stdout",
     "output_type": "stream",
     "text": [
      "Correlation Co-efficient - petal width (cm) vs sepal length (cm) : -0.4260283114441994\n"
     ]
    },
    {
     "data": {
      "image/png": "[encoded data removed]",
      "text/plain": [
       "<Figure size 432x288 with 1 Axes>"
      ]
     },
     "metadata": {
      "needs_background": "light"
     },
     "output_type": "display_data"
    },
    {
     "name": "stdout",
     "output_type": "stream",
     "text": [
      "Correlation Co-efficient - petal width (cm) vs sepal width (cm) : -0.36289417651712974\n"
     ]
    },
    {
     "data": {
      "image/png": "[encoded data removed]",
      "text/plain": [
       "<Figure size 432x288 with 1 Axes>"
      ]
     },
     "metadata": {
      "needs_background": "light"
     },
     "output_type": "display_data"
    },
    {
     "name": "stdout",
     "output_type": "stream",
     "text": [
      "Correlation Co-efficient - sepal length (cm) vs sepal width (cm) : 0.962772294599787\n"
     ]
    },
    {
     "data": {
      "image/png": "[encoded data removed]",
      "text/plain": [
       "<Figure size 432x288 with 1 Axes>"
      ]
     },
     "metadata": {
      "needs_background": "light"
     },
     "output_type": "display_data"
    }
   ],
   "source": [
    "# Scatter Plot\n",
    "\n",
    "for i in range(len(num_attr)):\n",
    "    for j in range(i + 1, len(num_attr)):\n",
    "        attr1, attr2 = num_attr[i], num_attr[j]\n",
    "        print(f\"Correlation Co-efficient - {attr1} vs {attr2} : {corr_matrix.iloc[i, j]}\")\n",
    "        sns.scatterplot(x = attr1, y = attr2, data = df0, label = df[label].unique()[0])\n",
    "        sns.scatterplot(x = attr1, y = attr2, data = df1, label = df[label].unique()[1])\n",
    "        sns.scatterplot(x = attr1, y = attr2, data = df2, label = df[label].unique()[2])\n",
    "        plt.show()"
   ]
  },
  {
   "cell_type": "code",
   "execution_count": 19,
   "id": "136bdfed",
   "metadata": {},
   "outputs": [
    {
     "data": {
      "image/png": "[encoded data removed]",
      "text/plain": [
       "<Figure size 432x288 with 1 Axes>"
      ]
     },
     "metadata": {
      "needs_background": "light"
     },
     "output_type": "display_data"
    },
    {
     "data": {
      "image/png": "[encoded data removed]",
      "text/plain": [
       "<Figure size 432x288 with 1 Axes>"
      ]
     },
     "metadata": {
      "needs_background": "light"
     },
     "output_type": "display_data"
    },
    {
     "data": {
      "image/png": "[encoded data removed]",
      "text/plain": [
       "<Figure size 432x288 with 1 Axes>"
      ]
     },
     "metadata": {
      "needs_background": "light"
     },
     "output_type": "display_data"
    },
    {
     "data": {
      "image/png": "[encoded data removed]",
      "text/plain": [
       "<Figure size 432x288 with 1 Axes>"
      ]
     },
     "metadata": {
      "needs_background": "light"
     },
     "output_type": "display_data"
    }
   ],
   "source": [
    "# Histogram\n",
    "\n",
    "for attr in num_attr:\n",
    "    sns.histplot(x = attr, data = df)\n",
    "    plt.show()"
   ]
  },
  {
   "cell_type": "code",
   "execution_count": 20,
   "id": "f3aaa01e",
   "metadata": {},
   "outputs": [
    {
     "data": {
      "image/png": "[encoded data removed]",
      "text/plain": [
       "<Figure size 432x288 with 1 Axes>"
      ]
     },
     "metadata": {
      "needs_background": "light"
     },
     "output_type": "display_data"
    },
    {
     "data": {
      "image/png": "[encoded data removed]",
      "text/plain": [
       "<Figure size 432x288 with 1 Axes>"
      ]
     },
     "metadata": {
      "needs_background": "light"
     },
     "output_type": "display_data"
    },
    {
     "data": {
      "image/png": "[encoded data removed]",
      "text/plain": [
       "<Figure size 432x288 with 1 Axes>"
      ]
     },
     "metadata": {
      "needs_background": "light"
     },
     "output_type": "display_data"
    },
    {
     "data": {
      "image/png": "[encoded data removed]",
      "text/plain": [
       "<Figure size 432x288 with 1 Axes>"
      ]
     },
     "metadata": {
      "needs_background": "light"
     },
     "output_type": "display_data"
    }
   ],
   "source": [
    "# Kernel Density Plot\n",
    "\n",
    "sns.kdeplot(x = num_attr[0], data = df0, multiple = 'stack')\n",
    "sns.kdeplot(x = num_attr[0], data = df1, multiple = 'stack')\n",
    "sns.kdeplot(x = num_attr[0], data = df2, multiple = 'stack')\n",
    "\n",
    "for attr in num_attr:\n",
    "    sns.kdeplot(x = attr, data = df0)\n",
    "    sns.kdeplot(x = attr, data = df1)\n",
    "    sns.kdeplot(x = attr, data = df2)\n",
    "    plt.show()"
   ]
  },
  {
   "cell_type": "code",
   "execution_count": 21,
   "id": "aa22ac80",
   "metadata": {},
   "outputs": [
    {
     "data": {
      "image/png": "[encoded data removed]",
      "text/plain": [
       "<Figure size 432x288 with 1 Axes>"
      ]
     },
     "metadata": {
      "needs_background": "light"
     },
     "output_type": "display_data"
    },
    {
     "data": {
      "image/png": "[encoded data removed]",
      "text/plain": [
       "<Figure size 432x288 with 1 Axes>"
      ]
     },
     "metadata": {
      "needs_background": "light"
     },
     "output_type": "display_data"
    },
    {
     "data": {
      "image/png": "[encoded data removed]",
      "text/plain": [
       "<Figure size 432x288 with 1 Axes>"
      ]
     },
     "metadata": {
      "needs_background": "light"
     },
     "output_type": "display_data"
    },
    {
     "data": {
      "image/png": "[encoded data removed]",
      "text/plain": [
       "<Figure size 432x288 with 1 Axes>"
      ]
     },
     "metadata": {
      "needs_background": "light"
     },
     "output_type": "display_data"
    }
   ],
   "source": [
    "# Bar Chart\n",
    "\n",
    "for attr in num_attr:\n",
    "    sns.barplot(x = label, y = attr, data = df)\n",
    "    plt.show()"
   ]
  },
  {
   "cell_type": "code",
   "execution_count": 22,
   "id": "a7179a57",
   "metadata": {},
   "outputs": [
    {
     "data": {
      "image/png": "[encoded data removed]",
      "text/plain": [
       "<Figure size 432x288 with 1 Axes>"
      ]
     },
     "metadata": {
      "needs_background": "light"
     },
     "output_type": "display_data"
    },
    {
     "data": {
      "image/png": "[encoded data removed]",
      "text/plain": [
       "<Figure size 432x288 with 1 Axes>"
      ]
     },
     "metadata": {
      "needs_background": "light"
     },
     "output_type": "display_data"
    },
    {
     "data": {
      "image/png": "[encoded data removed]",
      "text/plain": [
       "<Figure size 432x288 with 1 Axes>"
      ]
     },
     "metadata": {
      "needs_background": "light"
     },
     "output_type": "display_data"
    },
    {
     "data": {
      "image/png": "[encoded data removed]",
      "text/plain": [
       "<Figure size 432x288 with 1 Axes>"
      ]
     },
     "metadata": {
      "needs_background": "light"
     },
     "output_type": "display_data"
    }
   ],
   "source": [
    "# Box Plot (reveals skewness)\n",
    "\n",
    "for attr in num_attr:\n",
    "    sns.boxplot(x = label, y = attr, data = df)\n",
    "    plt.show()"
   ]
  },
  {
   "cell_type": "code",
   "execution_count": 79,
   "id": "65dd4185",
   "metadata": {},
   "outputs": [
    {
     "name": "stdout",
     "output_type": "stream",
     "text": [
      "Mean petal length (cm) : \n",
      "\n",
      "label\n",
      "setosa        1.462\n",
      "versicolor    4.260\n",
      "virginica     5.552\n",
      "Name: petal length (cm), dtype: float64 \n",
      "\n",
      "\n",
      "Mean petal width (cm) : \n",
      "\n",
      "label\n",
      "setosa        0.246\n",
      "versicolor    1.326\n",
      "virginica     2.026\n",
      "Name: petal width (cm), dtype: float64 \n",
      "\n",
      "\n"
     ]
    }
   ],
   "source": [
    "# Mean 'petal length' and 'petal width' after grouping by the target class\n",
    "\n",
    "for attr in num_attr[:2]:\n",
    "    print(f\"Mean {attr} : \\n\")\n",
    "    print(df.groupby(label)[attr].mean(), '\\n\\n')"
   ]
  },
  {
   "cell_type": "code",
   "execution_count": 24,
   "id": "9a9bf2a0",
   "metadata": {},
   "outputs": [
    {
     "name": "stdout",
     "output_type": "stream",
     "text": [
      "Mean petal length (cm)\n"
     ]
    },
    {
     "data": {
      "image/png": "[encoded data removed]",
      "text/plain": [
       "<Figure size 432x288 with 1 Axes>"
      ]
     },
     "metadata": {},
     "output_type": "display_data"
    },
    {
     "name": "stdout",
     "output_type": "stream",
     "text": [
      "Mean petal width (cm)\n"
     ]
    },
    {
     "data": {
      "image/png": "[encoded data removed]",
      "text/plain": [
       "<Figure size 432x288 with 1 Axes>"
      ]
     },
     "metadata": {},
     "output_type": "display_data"
    }
   ],
   "source": [
    "# Pie Chart\n",
    "\n",
    "for attr in num_attr[:2]:\n",
    "    print(f\"Mean {attr}\")\n",
    "    plt.pie(x = df.groupby(target)[attr].mean(), labels = data.target_names, autopct = \"%.2f%%\")\n",
    "    plt.show()"
   ]
  },
  {
   "cell_type": "code",
   "execution_count": 25,
   "id": "b9b8523e",
   "metadata": {},
   "outputs": [
    {
     "data": {
      "image/png": "[encoded data removed]",
      "text/plain": [
       "<Figure size 900x900 with 30 Axes>"
      ]
     },
     "metadata": {
      "needs_background": "light"
     },
     "output_type": "display_data"
    }
   ],
   "source": [
    "sns.pairplot(df)\n",
    "plt.show()"
   ]
  },
  {
   "attachments": {},
   "cell_type": "markdown",
   "id": "5dbd5cdc",
   "metadata": {},
   "source": [
    "### Data Preprocessing and Preparation\n"
   ]
  },
  {
   "cell_type": "code",
   "execution_count": 26,
   "id": "dea74f50",
   "metadata": {},
   "outputs": [],
   "source": [
    "X = df.drop([target, label], axis = 1).values\n",
    "y = df[target].values"
   ]
  },
  {
   "cell_type": "code",
   "execution_count": 27,
   "id": "51e7f45e",
   "metadata": {},
   "outputs": [],
   "source": [
    "X_ = X.copy()\n",
    "y_ = y.copy()"
   ]
  },
  {
   "cell_type": "code",
   "execution_count": 28,
   "id": "f7f732f7",
   "metadata": {},
   "outputs": [],
   "source": [
    "# Stratified Shuffle Split (Stratified Random Sampling)\n",
    "\n",
    "strat_split = model_selection.StratifiedShuffleSplit(n_splits = 1, test_size = 0.2, \\\n",
    "                                                     random_state = 3)\n",
    "\n",
    "for train_index, test_index in strat_split.split(df, df[target]):\n",
    "    X_train = X[train_index]\n",
    "    X_test = X[test_index]\n",
    "    y_train = y[train_index]\n",
    "    y_test = y[test_index]"
   ]
  },
  {
   "cell_type": "code",
   "execution_count": 29,
   "id": "6e7a6b79",
   "metadata": {},
   "outputs": [
    {
     "name": "stdout",
     "output_type": "stream",
     "text": [
      "Size of train set : 119\n",
      "Size of test set : 30\n"
     ]
    }
   ],
   "source": [
    "print(\"Size of train set :\", y_train.shape[0])\n",
    "print(\"Size of test set :\", y_test.shape[0])"
   ]
  },
  {
   "cell_type": "code",
   "execution_count": 30,
   "id": "d0ca9e90",
   "metadata": {},
   "outputs": [
    {
     "data": {
      "image/png": "[encoded data removed]",
      "text/plain": [
       "<Figure size 432x288 with 1 Axes>"
      ]
     },
     "metadata": {
      "needs_background": "light"
     },
     "output_type": "display_data"
    },
    {
     "data": {
      "image/png": "[encoded data removed]",
      "text/plain": [
       "<Figure size 432x288 with 1 Axes>"
      ]
     },
     "metadata": {
      "needs_background": "light"
     },
     "output_type": "display_data"
    }
   ],
   "source": [
    "# Checking whether the samples are distributed uniformely or not\n",
    "\n",
    "sns.histplot(y_train, bins = len(np.unique(y_train)))\n",
    "plt.show()\n",
    "\n",
    "sns.histplot(y_test, bins = len(np.unique(y_train)))\n",
    "plt.show()"
   ]
  },
  {
   "cell_type": "code",
   "execution_count": 31,
   "id": "18976729",
   "metadata": {},
   "outputs": [],
   "source": [
    "# Creating a data transformation pipeline for feature scaling\n",
    "\n",
    "p = pipeline.Pipeline([\n",
    "    ('scaler', preprocessing.StandardScaler()),\n",
    "])"
   ]
  },
  {
   "cell_type": "code",
   "execution_count": 80,
   "id": "2b07ab45",
   "metadata": {},
   "outputs": [],
   "source": [
    "# Scaling the features (Standardization)\n",
    "\n",
    "X_train_scaled = p.fit_transform(X_train)\n",
    "X_test_scaled = p.fit_transform(X_test)"
   ]
  },
  {
   "attachments": {},
   "cell_type": "markdown",
   "id": "81d3868a",
   "metadata": {},
   "source": [
    "### Training the Model and Evaluating it's Performance\n"
   ]
  },
  {
   "attachments": {},
   "cell_type": "markdown",
   "id": "a5744590",
   "metadata": {},
   "source": [
    "#### Through Logistic Regression (One Vs All)\n"
   ]
  },
  {
   "cell_type": "code",
   "execution_count": 33,
   "id": "4eb3e416",
   "metadata": {},
   "outputs": [],
   "source": [
    "# Implementing Logistic Regression through Batch Gradient Descent from scratch\n",
    "\n",
    "class LogisticRegression:\n",
    "    \n",
    "    def __init__(self, n_iter = 10000, lr = 0.0001, tol = 0.001):\n",
    "        self.n_iter = n_iter\n",
    "        self.lr = lr\n",
    "        self.w = self.b = None\n",
    "        self.tol = tol\n",
    "        \n",
    "    def fit(self, X, y):\n",
    "        n, n_features = X.shape\n",
    "        self.w = np.zeros(n_features)\n",
    "        self.b = 0\n",
    "        cost_ = 0\n",
    "        for i in range(self.n_iter):\n",
    "            z = np.dot(X, self.w) + self.b\n",
    "            y_pred = self.sigmoid(z)\n",
    "            cost = (-1 / n) * np.sum(y * np.log(y_pred) + (1 - y) * np.log(1 - y_pred))\n",
    "            dw = (1 / n) * np.dot(X.T, y_pred - y)\n",
    "            db = (1 / n) * np.sum(y_pred - y)\n",
    "            self.w -= self.lr * dw\n",
    "            self.b -= self.lr * db\n",
    "            if (abs(cost - cost_) <= self.tol):\n",
    "                break\n",
    "            cost_ = cost\n",
    "    \n",
    "    def predict(self, X):\n",
    "        z = np.dot(X, self.w) + self.b\n",
    "        temp = self.sigmoid(z)\n",
    "        y_pred = (temp > 0.5).astype(int)\n",
    "        return y_pred\n",
    "    \n",
    "    def score(self, X, y):\n",
    "        y_pred = self.predict(X)\n",
    "        acc = np.sum(y == y_pred) / len(y)\n",
    "        return acc\n",
    "        \n",
    "    @staticmethod \n",
    "    def sigmoid(x):\n",
    "        return 1 / (1 + np.exp(-x))"
   ]
  },
  {
   "cell_type": "code",
   "execution_count": 34,
   "id": "98e81b2c",
   "metadata": {},
   "outputs": [],
   "source": [
    "# Number of classifiers need to be trained\n",
    "\n",
    "n_clf = len(np.unique(y))"
   ]
  },
  {
   "cell_type": "code",
   "execution_count": 35,
   "id": "1d11b018",
   "metadata": {},
   "outputs": [],
   "source": [
    "# Preparing training sets for each of the unique label\n",
    "\n",
    "y_train_sets = []\n",
    "\n",
    "for i in range(n_clf):\n",
    "    y_train_i = (y_train == i).astype(int)\n",
    "    y_train_sets.append(y_train_i)"
   ]
  },
  {
   "cell_type": "code",
   "execution_count": 36,
   "id": "bed48feb",
   "metadata": {},
   "outputs": [],
   "source": [
    "# Training 'n_clf' binary classifiers\n",
    "\n",
    "clfs = []\n",
    "\n",
    "for i in range(n_clf):\n",
    "    clf = LogisticRegression(n_iter = 100000, lr = 0.02, tol = 0.00000001)\n",
    "    clfs.append(clf)\n",
    "    clfs[i].fit(X_train_scaled, y_train_sets[i])"
   ]
  },
  {
   "cell_type": "code",
   "execution_count": 37,
   "id": "c7318180",
   "metadata": {},
   "outputs": [],
   "source": [
    "y_train_pred_all = []\n",
    "y_train_scores = []\n",
    "\n",
    "for i in range(n_clf):\n",
    "    y_train_pred = clfs[i].predict(X_train_scaled)\n",
    "    y_train_pred_all.append(y_train_pred)\n",
    "    y_train_scores.append(clfs[i].score(X_train_scaled, y_train_sets[i]))"
   ]
  },
  {
   "cell_type": "code",
   "execution_count": 38,
   "id": "cf9f6ae8",
   "metadata": {},
   "outputs": [
    {
     "data": {
      "text/plain": [
       "[1.0, 0.7563025210084033, 0.9831932773109243]"
      ]
     },
     "execution_count": 38,
     "metadata": {},
     "output_type": "execute_result"
    }
   ],
   "source": [
    "y_train_scores"
   ]
  },
  {
   "cell_type": "code",
   "execution_count": 39,
   "id": "8af5cf15",
   "metadata": {},
   "outputs": [],
   "source": [
    "# Stacking individual classifier predictions\n",
    "\n",
    "y_train_pred_stacked = np.stack(y_train_pred_all, axis = 1)"
   ]
  },
  {
   "cell_type": "code",
   "execution_count": 40,
   "id": "2494ae82",
   "metadata": {},
   "outputs": [],
   "source": [
    "y_train_pred_final = []\n",
    "\n",
    "for pred in y_train_pred_stacked:\n",
    "    if not any(pred):\n",
    "        y_train_pred_final.append(np.argmin(y_train_scores))\n",
    "    else:\n",
    "        y_train_pred = np.argmax(pred + y_train_scores)\n",
    "        y_train_pred_final.append(y_train_pred)"
   ]
  },
  {
   "cell_type": "code",
   "execution_count": 41,
   "id": "9ead1194",
   "metadata": {},
   "outputs": [
    {
     "name": "stdout",
     "output_type": "stream",
     "text": [
      "Train Accuracy : 0.9831932773109243\n"
     ]
    }
   ],
   "source": [
    "train_acc = np.sum(y_train == y_train_pred_final) / len(y_train)\n",
    "\n",
    "print(\"Train Accuracy :\", train_acc)"
   ]
  },
  {
   "attachments": {},
   "cell_type": "markdown",
   "id": "cef7ef29",
   "metadata": {},
   "source": [
    "#### Sklearn Implementation\n"
   ]
  },
  {
   "cell_type": "code",
   "execution_count": 42,
   "id": "0fb32b7a",
   "metadata": {},
   "outputs": [
    {
     "data": {
      "text/html": [
       "<style>#sk-container-id-1 {color: black;background-color: white;}#sk-container-id-1 pre{padding: 0;}#sk-container-id-1 div.sk-toggleable {background-color: white;}#sk-container-id-1 label.sk-toggleable__label {cursor: pointer;display: block;width: 100%;margin-bottom: 0;padding: 0.3em;box-sizing: border-box;text-align: center;}#sk-container-id-1 label.sk-toggleable__label-arrow:before {content: \"▸\";float: left;margin-right: 0.25em;color: #696969;}#sk-container-id-1 label.sk-toggleable__label-arrow:hover:before {color: black;}#sk-container-id-1 div.sk-estimator:hover label.sk-toggleable__label-arrow:before {color: black;}#sk-container-id-1 div.sk-toggleable__content {max-height: 0;max-width: 0;overflow: hidden;text-align: left;background-color: #f0f8ff;}#sk-container-id-1 div.sk-toggleable__content pre {margin: 0.2em;color: black;border-radius: 0.25em;background-color: #f0f8ff;}#sk-container-id-1 input.sk-toggleable__control:checked~div.sk-toggleable__content {max-height: 200px;max-width: 100%;overflow: auto;}#sk-container-id-1 input.sk-toggleable__control:checked~label.sk-toggleable__label-arrow:before {content: \"▾\";}#sk-container-id-1 div.sk-estimator input.sk-toggleable__control:checked~label.sk-toggleable__label {background-color: #d4ebff;}#sk-container-id-1 div.sk-label input.sk-toggleable__control:checked~label.sk-toggleable__label {background-color: #d4ebff;}#sk-container-id-1 input.sk-hidden--visually {border: 0;clip: rect(1px 1px 1px 1px);clip: rect(1px, 1px, 1px, 1px);height: 1px;margin: -1px;overflow: hidden;padding: 0;position: absolute;width: 1px;}#sk-container-id-1 div.sk-estimator {font-family: monospace;background-color: #f0f8ff;border: 1px dotted black;border-radius: 0.25em;box-sizing: border-box;margin-bottom: 0.5em;}#sk-container-id-1 div.sk-estimator:hover {background-color: #d4ebff;}#sk-container-id-1 div.sk-parallel-item::after {content: \"\";width: 100%;border-bottom: 1px solid gray;flex-grow: 1;}#sk-container-id-1 div.sk-label:hover label.sk-toggleable__label {background-color: #d4ebff;}#sk-container-id-1 div.sk-serial::before {content: \"\";position: absolute;border-left: 1px solid gray;box-sizing: border-box;top: 0;bottom: 0;left: 50%;z-index: 0;}#sk-container-id-1 div.sk-serial {display: flex;flex-direction: column;align-items: center;background-color: white;padding-right: 0.2em;padding-left: 0.2em;position: relative;}#sk-container-id-1 div.sk-item {position: relative;z-index: 1;}#sk-container-id-1 div.sk-parallel {display: flex;align-items: stretch;justify-content: center;background-color: white;position: relative;}#sk-container-id-1 div.sk-item::before, #sk-container-id-1 div.sk-parallel-item::before {content: \"\";position: absolute;border-left: 1px solid gray;box-sizing: border-box;top: 0;bottom: 0;left: 50%;z-index: -1;}#sk-container-id-1 div.sk-parallel-item {display: flex;flex-direction: column;z-index: 1;position: relative;background-color: white;}#sk-container-id-1 div.sk-parallel-item:first-child::after {align-self: flex-end;width: 50%;}#sk-container-id-1 div.sk-parallel-item:last-child::after {align-self: flex-start;width: 50%;}#sk-container-id-1 div.sk-parallel-item:only-child::after {width: 0;}#sk-container-id-1 div.sk-dashed-wrapped {border: 1px dashed gray;margin: 0 0.4em 0.5em 0.4em;box-sizing: border-box;padding-bottom: 0.4em;background-color: white;}#sk-container-id-1 div.sk-label label {font-family: monospace;font-weight: bold;display: inline-block;line-height: 1.2em;}#sk-container-id-1 div.sk-label-container {text-align: center;}#sk-container-id-1 div.sk-container {/* jupyter's `normalize.less` sets `[hidden] { display: none; }` but bootstrap.min.css set `[hidden] { display: none !important; }` so we also need the `!important` here to be able to override the default hidden behavior on the sphinx rendered scikit-learn.org. See: https://github.com/scikit-learn/scikit-learn/issues/21755 */display: inline-block !important;position: relative;}#sk-container-id-1 div.sk-text-repr-fallback {display: none;}</style><div id=\"sk-container-id-1\" class=\"sk-top-container\"><div class=\"sk-text-repr-fallback\"><pre>LogisticRegression()</pre><b>In a Jupyter environment, please rerun this cell to show the HTML representation or trust the notebook. <br />On GitHub, the HTML representation is unable to render, please try loading this page with nbviewer.org.</b></div><div class=\"sk-container\" hidden><div class=\"sk-item\"><div class=\"sk-estimator sk-toggleable\"><input class=\"sk-toggleable__control sk-hidden--visually\" id=\"sk-estimator-id-1\" type=\"checkbox\" checked><label for=\"sk-estimator-id-1\" class=\"sk-toggleable__label sk-toggleable__label-arrow\">LogisticRegression</label><div class=\"sk-toggleable__content\"><pre>LogisticRegression()</pre></div></div></div></div></div>"
      ],
      "text/plain": [
       "LogisticRegression()"
      ]
     },
     "execution_count": 42,
     "metadata": {},
     "output_type": "execute_result"
    }
   ],
   "source": [
    "# Implementing Logistic Regression through Sklearn\n",
    "\n",
    "model = linear_model.LogisticRegression()\n",
    "\n",
    "model.fit(X_train_scaled, y_train)"
   ]
  },
  {
   "cell_type": "code",
   "execution_count": 43,
   "id": "7688ccbc",
   "metadata": {},
   "outputs": [
    {
     "name": "stdout",
     "output_type": "stream",
     "text": [
      "Train Accuracy : 0.9747899159663865\n"
     ]
    }
   ],
   "source": [
    "y_train_pred = model.predict(X_train_scaled)\n",
    "\n",
    "print(\"Train Accuracy :\", model.score(X_train_scaled, y_train))"
   ]
  },
  {
   "cell_type": "code",
   "execution_count": 44,
   "id": "f89323fc",
   "metadata": {},
   "outputs": [
    {
     "data": {
      "image/png": "[encoded data removed]",
      "text/plain": [
       "<Figure size 432x288 with 2 Axes>"
      ]
     },
     "metadata": {
      "needs_background": "light"
     },
     "output_type": "display_data"
    }
   ],
   "source": [
    "# Confusion Matrix\n",
    "\n",
    "conf_matrix = metrics.confusion_matrix(y_train, y_train_pred)\n",
    "\n",
    "sns.heatmap(conf_matrix, annot = True)\n",
    "plt.show()"
   ]
  },
  {
   "cell_type": "code",
   "execution_count": 45,
   "id": "159b20d7",
   "metadata": {},
   "outputs": [
    {
     "name": "stdout",
     "output_type": "stream",
     "text": [
      "Precision : 0.9749786949439596\n",
      "Recall or Sensitivity : 0.9747899159663865\n",
      "F1 Score : 0.974781831924689\n"
     ]
    }
   ],
   "source": [
    "# Classification Metrics\n",
    "\n",
    "precision = metrics.precision_score(y_train, y_train_pred, average = 'weighted')\n",
    "recall = metrics.recall_score(y_train, y_train_pred, average = 'weighted')\n",
    "f1 = metrics.f1_score(y_train, y_train_pred, average = 'weighted')\n",
    "\n",
    "print(\"Precision :\", precision)\n",
    "print(\"Recall or Sensitivity :\", recall)\n",
    "print(\"F1 Score :\", f1)"
   ]
  },
  {
   "cell_type": "code",
   "execution_count": 46,
   "id": "e7c8295f",
   "metadata": {},
   "outputs": [
    {
     "name": "stdout",
     "output_type": "stream",
     "text": [
      "              precision    recall  f1-score   support\n",
      "\n",
      "           0       1.00      1.00      1.00        40\n",
      "           1       0.95      0.97      0.96        40\n",
      "           2       0.97      0.95      0.96        39\n",
      "\n",
      "    accuracy                           0.97       119\n",
      "   macro avg       0.97      0.97      0.97       119\n",
      "weighted avg       0.97      0.97      0.97       119\n",
      "\n"
     ]
    }
   ],
   "source": [
    "# Classification Report\n",
    "\n",
    "clf_report = metrics.classification_report(y_train, y_train_pred)\n",
    "\n",
    "print(clf_report)"
   ]
  },
  {
   "attachments": {},
   "cell_type": "markdown",
   "id": "beedf45b",
   "metadata": {},
   "source": [
    "### Validating the model\n"
   ]
  },
  {
   "cell_type": "code",
   "execution_count": 47,
   "id": "33313c90",
   "metadata": {},
   "outputs": [],
   "source": [
    "y_test_pred_final = model.predict(X_test_scaled)"
   ]
  },
  {
   "cell_type": "code",
   "execution_count": 48,
   "id": "7486e928",
   "metadata": {},
   "outputs": [
    {
     "name": "stdout",
     "output_type": "stream",
     "text": [
      "Test Accuracy : 0.9\n"
     ]
    }
   ],
   "source": [
    "test_acc = np.sum(y_test == y_test_pred_final) / len(y_test)\n",
    "\n",
    "print(\"Test Accuracy :\", test_acc)"
   ]
  },
  {
   "cell_type": "code",
   "execution_count": 49,
   "id": "cf34a853",
   "metadata": {},
   "outputs": [
    {
     "data": {
      "image/png": "[encoded data removed]",
      "text/plain": [
       "<Figure size 432x288 with 2 Axes>"
      ]
     },
     "metadata": {
      "needs_background": "light"
     },
     "output_type": "display_data"
    }
   ],
   "source": [
    "# Confusion Matrix\n",
    "\n",
    "conf_matrix = metrics.confusion_matrix(y_test, y_test_pred_final)\n",
    "\n",
    "sns.heatmap(conf_matrix, annot = True)\n",
    "plt.show()"
   ]
  },
  {
   "cell_type": "code",
   "execution_count": 50,
   "id": "7f66b845",
   "metadata": {},
   "outputs": [
    {
     "name": "stdout",
     "output_type": "stream",
     "text": [
      "Precision : 0.9023569023569024\n",
      "Recall or Sensitivity : 0.9\n",
      "F1 Score : 0.8997493734335841\n"
     ]
    }
   ],
   "source": [
    "# Classification Metrics\n",
    "\n",
    "precision = metrics.precision_score(y_test, y_test_pred_final, average = 'weighted')\n",
    "recall = metrics.recall_score(y_test, y_test_pred_final, average = 'weighted')\n",
    "f1 = metrics.f1_score(y_test, y_test_pred_final, average = 'weighted')\n",
    "\n",
    "print(\"Precision :\", precision)\n",
    "print(\"Recall or Sensitivity :\", recall)\n",
    "print(\"F1 Score :\", f1)"
   ]
  },
  {
   "cell_type": "code",
   "execution_count": 51,
   "id": "e70f6d54",
   "metadata": {},
   "outputs": [
    {
     "name": "stdout",
     "output_type": "stream",
     "text": [
      "              precision    recall  f1-score   support\n",
      "\n",
      "           0       1.00      1.00      1.00        10\n",
      "           1       0.82      0.90      0.86        10\n",
      "           2       0.89      0.80      0.84        10\n",
      "\n",
      "    accuracy                           0.90        30\n",
      "   macro avg       0.90      0.90      0.90        30\n",
      "weighted avg       0.90      0.90      0.90        30\n",
      "\n"
     ]
    }
   ],
   "source": [
    "# Classification Report\n",
    "\n",
    "clf_report = metrics.classification_report(y_test, y_test_pred_final)\n",
    "\n",
    "print(clf_report)"
   ]
  },
  {
   "attachments": {},
   "cell_type": "markdown",
   "id": "4312086c",
   "metadata": {},
   "source": [
    "#### Cross Validation\n"
   ]
  },
  {
   "cell_type": "code",
   "execution_count": 52,
   "id": "4bd17d7c",
   "metadata": {},
   "outputs": [
    {
     "name": "stdout",
     "output_type": "stream",
     "text": [
      "[1.         0.93333333 1.         1.         0.93333333 0.93333333\n",
      " 0.93333333 1.         1.         1.        ]\n",
      "Cross Validation Score (Average) : 0.9733333333333334\n"
     ]
    }
   ],
   "source": [
    "# Performing Cross Validation on Logistic Regression Model (Stratified K-Fold)\n",
    "\n",
    "scores = model_selection.cross_val_score(linear_model.LogisticRegression(max_iter = 1000), \\\n",
    "                                         X, y, cv = 10)\n",
    "\n",
    "print(scores)\n",
    "print(\"Cross Validation Score (Average) :\", np.sum(scores) / len(scores))"
   ]
  },
  {
   "attachments": {},
   "cell_type": "markdown",
   "id": "8d35a109",
   "metadata": {},
   "source": [
    "### Chossing the Best Model\n"
   ]
  },
  {
   "cell_type": "code",
   "execution_count": 53,
   "id": "bd7f4700",
   "metadata": {},
   "outputs": [],
   "source": [
    "# Training different classifiers\n",
    "\n",
    "lg = linear_model.LogisticRegression()\n",
    "rf = ensemble.RandomForestClassifier()\n",
    "knn = neighbors.KNeighborsClassifier()\n",
    "nb = naive_bayes.GaussianNB()\n",
    "\n",
    "lg.fit(X_train_scaled, y_train)\n",
    "rf.fit(X_train_scaled, y_train)\n",
    "knn.fit(X_train_scaled, y_train)\n",
    "nb.fit(X_train_scaled, y_train)\n",
    "\n",
    "model_names = np.array(['Logistic Regression', \"Random Forest\", \\\n",
    "                        \"K Nearest Neighbors\", \"Naive Bayes\"])\n",
    "models = np.array([lg, rf, knn, nb], dtype ='object')"
   ]
  },
  {
   "cell_type": "code",
   "execution_count": 54,
   "id": "ff1f2358",
   "metadata": {},
   "outputs": [
    {
     "name": "stdout",
     "output_type": "stream",
     "text": [
      "Training Accuracy : \n",
      "\n",
      "Logistic Regression : 0.9747899159663865\n",
      "Random Forest : 1.0\n",
      "K Nearest Neighbors : 0.9747899159663865\n",
      "Naive Bayes : 0.9663865546218487\n"
     ]
    }
   ],
   "source": [
    "# Evaluating performance of each model on training sets (accuracy as performance metric)\n",
    "\n",
    "y_train_preds = np.zeros((len(models), X_train_scaled.shape[0]), dtype = int)\n",
    "y_train_scores = np.zeros(len(models))\n",
    "\n",
    "for i in range(len(models)):\n",
    "    y_train_preds[i] = models[i].predict(X_train_scaled)\n",
    "    y_train_scores[i] = metrics.accuracy_score(y_train, y_train_preds[i])\n",
    "\n",
    "y_train_scores_dict = {x : y for x, y in zip(model_names, y_train_scores)}\n",
    "\n",
    "print(\"Training Accuracy : \\n\")\n",
    "for x, y in y_train_scores_dict.items():\n",
    "    print(x, \":\", y)"
   ]
  },
  {
   "cell_type": "code",
   "execution_count": 55,
   "id": "77f3aca0",
   "metadata": {
    "scrolled": true
   },
   "outputs": [
    {
     "name": "stdout",
     "output_type": "stream",
     "text": [
      "Average Cross Validation Score (Accuracy) : \n",
      "\n",
      "Logistic Regression : 0.975\n",
      "Random Forest : 0.975\n",
      "K Nearest Neighbors : 0.975\n",
      "Naive Bayes : 0.9575757575757574\n"
     ]
    }
   ],
   "source": [
    "# Performing Cross Validation\n",
    "\n",
    "avg = lambda x : np.sum(x) / len(x)\n",
    "avg_cross_val_scores = np.zeros(len(models))\n",
    "\n",
    "for i in range(len(models)):\n",
    "    avg_cross_val_scores[i] = avg(model_selection.cross_val_score(models[i], X_train_scaled, y_train, cv = 10))\n",
    "    \n",
    "print(\"Average Cross Validation Score (Accuracy) : \\n\")\n",
    "for idx, model in enumerate(model_names):\n",
    "    print(model, \":\", avg_cross_val_scores[idx])"
   ]
  },
  {
   "attachments": {},
   "cell_type": "markdown",
   "id": "5cc8d760",
   "metadata": {},
   "source": [
    "#### Training Random Forest Classifier\n"
   ]
  },
  {
   "cell_type": "code",
   "execution_count": 56,
   "id": "3c5e9c63",
   "metadata": {},
   "outputs": [
    {
     "data": {
      "text/html": [
       "<style>#sk-container-id-2 {color: black;background-color: white;}#sk-container-id-2 pre{padding: 0;}#sk-container-id-2 div.sk-toggleable {background-color: white;}#sk-container-id-2 label.sk-toggleable__label {cursor: pointer;display: block;width: 100%;margin-bottom: 0;padding: 0.3em;box-sizing: border-box;text-align: center;}#sk-container-id-2 label.sk-toggleable__label-arrow:before {content: \"▸\";float: left;margin-right: 0.25em;color: #696969;}#sk-container-id-2 label.sk-toggleable__label-arrow:hover:before {color: black;}#sk-container-id-2 div.sk-estimator:hover label.sk-toggleable__label-arrow:before {color: black;}#sk-container-id-2 div.sk-toggleable__content {max-height: 0;max-width: 0;overflow: hidden;text-align: left;background-color: #f0f8ff;}#sk-container-id-2 div.sk-toggleable__content pre {margin: 0.2em;color: black;border-radius: 0.25em;background-color: #f0f8ff;}#sk-container-id-2 input.sk-toggleable__control:checked~div.sk-toggleable__content {max-height: 200px;max-width: 100%;overflow: auto;}#sk-container-id-2 input.sk-toggleable__control:checked~label.sk-toggleable__label-arrow:before {content: \"▾\";}#sk-container-id-2 div.sk-estimator input.sk-toggleable__control:checked~label.sk-toggleable__label {background-color: #d4ebff;}#sk-container-id-2 div.sk-label input.sk-toggleable__control:checked~label.sk-toggleable__label {background-color: #d4ebff;}#sk-container-id-2 input.sk-hidden--visually {border: 0;clip: rect(1px 1px 1px 1px);clip: rect(1px, 1px, 1px, 1px);height: 1px;margin: -1px;overflow: hidden;padding: 0;position: absolute;width: 1px;}#sk-container-id-2 div.sk-estimator {font-family: monospace;background-color: #f0f8ff;border: 1px dotted black;border-radius: 0.25em;box-sizing: border-box;margin-bottom: 0.5em;}#sk-container-id-2 div.sk-estimator:hover {background-color: #d4ebff;}#sk-container-id-2 div.sk-parallel-item::after {content: \"\";width: 100%;border-bottom: 1px solid gray;flex-grow: 1;}#sk-container-id-2 div.sk-label:hover label.sk-toggleable__label {background-color: #d4ebff;}#sk-container-id-2 div.sk-serial::before {content: \"\";position: absolute;border-left: 1px solid gray;box-sizing: border-box;top: 0;bottom: 0;left: 50%;z-index: 0;}#sk-container-id-2 div.sk-serial {display: flex;flex-direction: column;align-items: center;background-color: white;padding-right: 0.2em;padding-left: 0.2em;position: relative;}#sk-container-id-2 div.sk-item {position: relative;z-index: 1;}#sk-container-id-2 div.sk-parallel {display: flex;align-items: stretch;justify-content: center;background-color: white;position: relative;}#sk-container-id-2 div.sk-item::before, #sk-container-id-2 div.sk-parallel-item::before {content: \"\";position: absolute;border-left: 1px solid gray;box-sizing: border-box;top: 0;bottom: 0;left: 50%;z-index: -1;}#sk-container-id-2 div.sk-parallel-item {display: flex;flex-direction: column;z-index: 1;position: relative;background-color: white;}#sk-container-id-2 div.sk-parallel-item:first-child::after {align-self: flex-end;width: 50%;}#sk-container-id-2 div.sk-parallel-item:last-child::after {align-self: flex-start;width: 50%;}#sk-container-id-2 div.sk-parallel-item:only-child::after {width: 0;}#sk-container-id-2 div.sk-dashed-wrapped {border: 1px dashed gray;margin: 0 0.4em 0.5em 0.4em;box-sizing: border-box;padding-bottom: 0.4em;background-color: white;}#sk-container-id-2 div.sk-label label {font-family: monospace;font-weight: bold;display: inline-block;line-height: 1.2em;}#sk-container-id-2 div.sk-label-container {text-align: center;}#sk-container-id-2 div.sk-container {/* jupyter's `normalize.less` sets `[hidden] { display: none; }` but bootstrap.min.css set `[hidden] { display: none !important; }` so we also need the `!important` here to be able to override the default hidden behavior on the sphinx rendered scikit-learn.org. See: https://github.com/scikit-learn/scikit-learn/issues/21755 */display: inline-block !important;position: relative;}#sk-container-id-2 div.sk-text-repr-fallback {display: none;}</style><div id=\"sk-container-id-2\" class=\"sk-top-container\"><div class=\"sk-text-repr-fallback\"><pre>RandomForestClassifier()</pre><b>In a Jupyter environment, please rerun this cell to show the HTML representation or trust the notebook. <br />On GitHub, the HTML representation is unable to render, please try loading this page with nbviewer.org.</b></div><div class=\"sk-container\" hidden><div class=\"sk-item\"><div class=\"sk-estimator sk-toggleable\"><input class=\"sk-toggleable__control sk-hidden--visually\" id=\"sk-estimator-id-2\" type=\"checkbox\" checked><label for=\"sk-estimator-id-2\" class=\"sk-toggleable__label sk-toggleable__label-arrow\">RandomForestClassifier</label><div class=\"sk-toggleable__content\"><pre>RandomForestClassifier()</pre></div></div></div></div></div>"
      ],
      "text/plain": [
       "RandomForestClassifier()"
      ]
     },
     "execution_count": 56,
     "metadata": {},
     "output_type": "execute_result"
    }
   ],
   "source": [
    "# Random Forest Classifier\n",
    "\n",
    "model = ensemble.RandomForestClassifier()\n",
    "\n",
    "model.fit(X_train_scaled, y_train)"
   ]
  },
  {
   "cell_type": "code",
   "execution_count": 57,
   "id": "cd7a8355",
   "metadata": {},
   "outputs": [
    {
     "name": "stdout",
     "output_type": "stream",
     "text": [
      "Train Accuracy : 1.0\n"
     ]
    }
   ],
   "source": [
    "y_train_pred = model.predict(X_train_scaled)\n",
    "\n",
    "train_acc = np.sum(y_train == y_train_pred) / len(y_train)\n",
    "print(\"Train Accuracy :\", train_acc)"
   ]
  },
  {
   "attachments": {},
   "cell_type": "markdown",
   "id": "459b737b",
   "metadata": {},
   "source": [
    "### Choosing the Best Parameters for the Model\n"
   ]
  },
  {
   "cell_type": "code",
   "execution_count": 58,
   "id": "a958d4bc",
   "metadata": {},
   "outputs": [
    {
     "data": {
      "text/html": [
       "<style>#sk-container-id-3 {color: black;background-color: white;}#sk-container-id-3 pre{padding: 0;}#sk-container-id-3 div.sk-toggleable {background-color: white;}#sk-container-id-3 label.sk-toggleable__label {cursor: pointer;display: block;width: 100%;margin-bottom: 0;padding: 0.3em;box-sizing: border-box;text-align: center;}#sk-container-id-3 label.sk-toggleable__label-arrow:before {content: \"▸\";float: left;margin-right: 0.25em;color: #696969;}#sk-container-id-3 label.sk-toggleable__label-arrow:hover:before {color: black;}#sk-container-id-3 div.sk-estimator:hover label.sk-toggleable__label-arrow:before {color: black;}#sk-container-id-3 div.sk-toggleable__content {max-height: 0;max-width: 0;overflow: hidden;text-align: left;background-color: #f0f8ff;}#sk-container-id-3 div.sk-toggleable__content pre {margin: 0.2em;color: black;border-radius: 0.25em;background-color: #f0f8ff;}#sk-container-id-3 input.sk-toggleable__control:checked~div.sk-toggleable__content {max-height: 200px;max-width: 100%;overflow: auto;}#sk-container-id-3 input.sk-toggleable__control:checked~label.sk-toggleable__label-arrow:before {content: \"▾\";}#sk-container-id-3 div.sk-estimator input.sk-toggleable__control:checked~label.sk-toggleable__label {background-color: #d4ebff;}#sk-container-id-3 div.sk-label input.sk-toggleable__control:checked~label.sk-toggleable__label {background-color: #d4ebff;}#sk-container-id-3 input.sk-hidden--visually {border: 0;clip: rect(1px 1px 1px 1px);clip: rect(1px, 1px, 1px, 1px);height: 1px;margin: -1px;overflow: hidden;padding: 0;position: absolute;width: 1px;}#sk-container-id-3 div.sk-estimator {font-family: monospace;background-color: #f0f8ff;border: 1px dotted black;border-radius: 0.25em;box-sizing: border-box;margin-bottom: 0.5em;}#sk-container-id-3 div.sk-estimator:hover {background-color: #d4ebff;}#sk-container-id-3 div.sk-parallel-item::after {content: \"\";width: 100%;border-bottom: 1px solid gray;flex-grow: 1;}#sk-container-id-3 div.sk-label:hover label.sk-toggleable__label {background-color: #d4ebff;}#sk-container-id-3 div.sk-serial::before {content: \"\";position: absolute;border-left: 1px solid gray;box-sizing: border-box;top: 0;bottom: 0;left: 50%;z-index: 0;}#sk-container-id-3 div.sk-serial {display: flex;flex-direction: column;align-items: center;background-color: white;padding-right: 0.2em;padding-left: 0.2em;position: relative;}#sk-container-id-3 div.sk-item {position: relative;z-index: 1;}#sk-container-id-3 div.sk-parallel {display: flex;align-items: stretch;justify-content: center;background-color: white;position: relative;}#sk-container-id-3 div.sk-item::before, #sk-container-id-3 div.sk-parallel-item::before {content: \"\";position: absolute;border-left: 1px solid gray;box-sizing: border-box;top: 0;bottom: 0;left: 50%;z-index: -1;}#sk-container-id-3 div.sk-parallel-item {display: flex;flex-direction: column;z-index: 1;position: relative;background-color: white;}#sk-container-id-3 div.sk-parallel-item:first-child::after {align-self: flex-end;width: 50%;}#sk-container-id-3 div.sk-parallel-item:last-child::after {align-self: flex-start;width: 50%;}#sk-container-id-3 div.sk-parallel-item:only-child::after {width: 0;}#sk-container-id-3 div.sk-dashed-wrapped {border: 1px dashed gray;margin: 0 0.4em 0.5em 0.4em;box-sizing: border-box;padding-bottom: 0.4em;background-color: white;}#sk-container-id-3 div.sk-label label {font-family: monospace;font-weight: bold;display: inline-block;line-height: 1.2em;}#sk-container-id-3 div.sk-label-container {text-align: center;}#sk-container-id-3 div.sk-container {/* jupyter's `normalize.less` sets `[hidden] { display: none; }` but bootstrap.min.css set `[hidden] { display: none !important; }` so we also need the `!important` here to be able to override the default hidden behavior on the sphinx rendered scikit-learn.org. See: https://github.com/scikit-learn/scikit-learn/issues/21755 */display: inline-block !important;position: relative;}#sk-container-id-3 div.sk-text-repr-fallback {display: none;}</style><div id=\"sk-container-id-3\" class=\"sk-top-container\"><div class=\"sk-text-repr-fallback\"><pre>RandomForestClassifier()</pre><b>In a Jupyter environment, please rerun this cell to show the HTML representation or trust the notebook. <br />On GitHub, the HTML representation is unable to render, please try loading this page with nbviewer.org.</b></div><div class=\"sk-container\" hidden><div class=\"sk-item\"><div class=\"sk-estimator sk-toggleable\"><input class=\"sk-toggleable__control sk-hidden--visually\" id=\"sk-estimator-id-3\" type=\"checkbox\" checked><label for=\"sk-estimator-id-3\" class=\"sk-toggleable__label sk-toggleable__label-arrow\">RandomForestClassifier</label><div class=\"sk-toggleable__content\"><pre>RandomForestClassifier()</pre></div></div></div></div></div>"
      ],
      "text/plain": [
       "RandomForestClassifier()"
      ]
     },
     "execution_count": 58,
     "metadata": {},
     "output_type": "execute_result"
    }
   ],
   "source": [
    "ensemble.RandomForestClassifier()"
   ]
  },
  {
   "attachments": {},
   "cell_type": "markdown",
   "id": "ce66ee55",
   "metadata": {},
   "source": [
    "#### Hyper Parameter Tuning\n"
   ]
  },
  {
   "cell_type": "code",
   "execution_count": 59,
   "id": "12855e32",
   "metadata": {},
   "outputs": [
    {
     "data": {
      "text/html": [
       "<style>#sk-container-id-4 {color: black;background-color: white;}#sk-container-id-4 pre{padding: 0;}#sk-container-id-4 div.sk-toggleable {background-color: white;}#sk-container-id-4 label.sk-toggleable__label {cursor: pointer;display: block;width: 100%;margin-bottom: 0;padding: 0.3em;box-sizing: border-box;text-align: center;}#sk-container-id-4 label.sk-toggleable__label-arrow:before {content: \"▸\";float: left;margin-right: 0.25em;color: #696969;}#sk-container-id-4 label.sk-toggleable__label-arrow:hover:before {color: black;}#sk-container-id-4 div.sk-estimator:hover label.sk-toggleable__label-arrow:before {color: black;}#sk-container-id-4 div.sk-toggleable__content {max-height: 0;max-width: 0;overflow: hidden;text-align: left;background-color: #f0f8ff;}#sk-container-id-4 div.sk-toggleable__content pre {margin: 0.2em;color: black;border-radius: 0.25em;background-color: #f0f8ff;}#sk-container-id-4 input.sk-toggleable__control:checked~div.sk-toggleable__content {max-height: 200px;max-width: 100%;overflow: auto;}#sk-container-id-4 input.sk-toggleable__control:checked~label.sk-toggleable__label-arrow:before {content: \"▾\";}#sk-container-id-4 div.sk-estimator input.sk-toggleable__control:checked~label.sk-toggleable__label {background-color: #d4ebff;}#sk-container-id-4 div.sk-label input.sk-toggleable__control:checked~label.sk-toggleable__label {background-color: #d4ebff;}#sk-container-id-4 input.sk-hidden--visually {border: 0;clip: rect(1px 1px 1px 1px);clip: rect(1px, 1px, 1px, 1px);height: 1px;margin: -1px;overflow: hidden;padding: 0;position: absolute;width: 1px;}#sk-container-id-4 div.sk-estimator {font-family: monospace;background-color: #f0f8ff;border: 1px dotted black;border-radius: 0.25em;box-sizing: border-box;margin-bottom: 0.5em;}#sk-container-id-4 div.sk-estimator:hover {background-color: #d4ebff;}#sk-container-id-4 div.sk-parallel-item::after {content: \"\";width: 100%;border-bottom: 1px solid gray;flex-grow: 1;}#sk-container-id-4 div.sk-label:hover label.sk-toggleable__label {background-color: #d4ebff;}#sk-container-id-4 div.sk-serial::before {content: \"\";position: absolute;border-left: 1px solid gray;box-sizing: border-box;top: 0;bottom: 0;left: 50%;z-index: 0;}#sk-container-id-4 div.sk-serial {display: flex;flex-direction: column;align-items: center;background-color: white;padding-right: 0.2em;padding-left: 0.2em;position: relative;}#sk-container-id-4 div.sk-item {position: relative;z-index: 1;}#sk-container-id-4 div.sk-parallel {display: flex;align-items: stretch;justify-content: center;background-color: white;position: relative;}#sk-container-id-4 div.sk-item::before, #sk-container-id-4 div.sk-parallel-item::before {content: \"\";position: absolute;border-left: 1px solid gray;box-sizing: border-box;top: 0;bottom: 0;left: 50%;z-index: -1;}#sk-container-id-4 div.sk-parallel-item {display: flex;flex-direction: column;z-index: 1;position: relative;background-color: white;}#sk-container-id-4 div.sk-parallel-item:first-child::after {align-self: flex-end;width: 50%;}#sk-container-id-4 div.sk-parallel-item:last-child::after {align-self: flex-start;width: 50%;}#sk-container-id-4 div.sk-parallel-item:only-child::after {width: 0;}#sk-container-id-4 div.sk-dashed-wrapped {border: 1px dashed gray;margin: 0 0.4em 0.5em 0.4em;box-sizing: border-box;padding-bottom: 0.4em;background-color: white;}#sk-container-id-4 div.sk-label label {font-family: monospace;font-weight: bold;display: inline-block;line-height: 1.2em;}#sk-container-id-4 div.sk-label-container {text-align: center;}#sk-container-id-4 div.sk-container {/* jupyter's `normalize.less` sets `[hidden] { display: none; }` but bootstrap.min.css set `[hidden] { display: none !important; }` so we also need the `!important` here to be able to override the default hidden behavior on the sphinx rendered scikit-learn.org. See: https://github.com/scikit-learn/scikit-learn/issues/21755 */display: inline-block !important;position: relative;}#sk-container-id-4 div.sk-text-repr-fallback {display: none;}</style><div id=\"sk-container-id-4\" class=\"sk-top-container\"><div class=\"sk-text-repr-fallback\"><pre>GridSearchCV(estimator=RandomForestClassifier(),\n",
       "             param_grid={&#x27;bootstrap&#x27;: [False, True], &#x27;max_depth&#x27;: [None, 5, 10],\n",
       "                         &#x27;n_estimators&#x27;: [20, 50, 80, 100, 150, 200]})</pre><b>In a Jupyter environment, please rerun this cell to show the HTML representation or trust the notebook. <br />On GitHub, the HTML representation is unable to render, please try loading this page with nbviewer.org.</b></div><div class=\"sk-container\" hidden><div class=\"sk-item sk-dashed-wrapped\"><div class=\"sk-label-container\"><div class=\"sk-label sk-toggleable\"><input class=\"sk-toggleable__control sk-hidden--visually\" id=\"sk-estimator-id-4\" type=\"checkbox\" ><label for=\"sk-estimator-id-4\" class=\"sk-toggleable__label sk-toggleable__label-arrow\">GridSearchCV</label><div class=\"sk-toggleable__content\"><pre>GridSearchCV(estimator=RandomForestClassifier(),\n",
       "             param_grid={&#x27;bootstrap&#x27;: [False, True], &#x27;max_depth&#x27;: [None, 5, 10],\n",
       "                         &#x27;n_estimators&#x27;: [20, 50, 80, 100, 150, 200]})</pre></div></div></div><div class=\"sk-parallel\"><div class=\"sk-parallel-item\"><div class=\"sk-item\"><div class=\"sk-label-container\"><div class=\"sk-label sk-toggleable\"><input class=\"sk-toggleable__control sk-hidden--visually\" id=\"sk-estimator-id-5\" type=\"checkbox\" ><label for=\"sk-estimator-id-5\" class=\"sk-toggleable__label sk-toggleable__label-arrow\">estimator: RandomForestClassifier</label><div class=\"sk-toggleable__content\"><pre>RandomForestClassifier()</pre></div></div></div><div class=\"sk-serial\"><div class=\"sk-item\"><div class=\"sk-estimator sk-toggleable\"><input class=\"sk-toggleable__control sk-hidden--visually\" id=\"sk-estimator-id-6\" type=\"checkbox\" ><label for=\"sk-estimator-id-6\" class=\"sk-toggleable__label sk-toggleable__label-arrow\">RandomForestClassifier</label><div class=\"sk-toggleable__content\"><pre>RandomForestClassifier()</pre></div></div></div></div></div></div></div></div></div></div>"
      ],
      "text/plain": [
       "GridSearchCV(estimator=RandomForestClassifier(),\n",
       "             param_grid={'bootstrap': [False, True], 'max_depth': [None, 5, 10],\n",
       "                         'n_estimators': [20, 50, 80, 100, 150, 200]})"
      ]
     },
     "execution_count": 59,
     "metadata": {},
     "output_type": "execute_result"
    }
   ],
   "source": [
    "# Tuning Hyper Parameters for the selected model using Grid Search CV\n",
    "\n",
    "param_grid_ = {\n",
    "    'n_estimators' : [20, 50, 80, 100, 150, 200],\n",
    "    'bootstrap' : [False, True],\n",
    "    'max_depth' : [None, 5, 10],\n",
    "    \n",
    "}\n",
    "\n",
    "grid_cv = model_selection.GridSearchCV(base.clone(model), param_grid = param_grid_)\n",
    "\n",
    "grid_cv.fit(X_train_scaled, y_train)"
   ]
  },
  {
   "cell_type": "code",
   "execution_count": 60,
   "id": "3729c128",
   "metadata": {},
   "outputs": [
    {
     "name": "stdout",
     "output_type": "stream",
     "text": [
      "{'bootstrap': False, 'max_depth': None, 'n_estimators': 50}\n"
     ]
    }
   ],
   "source": [
    "# Getting the best parameters\n",
    "\n",
    "print(grid_cv.best_params_)"
   ]
  },
  {
   "cell_type": "code",
   "execution_count": 81,
   "id": "ffea192d",
   "metadata": {
    "scrolled": true
   },
   "outputs": [
    {
     "data": {
      "text/html": [
       "<style>#sk-container-id-7 {color: black;background-color: white;}#sk-container-id-7 pre{padding: 0;}#sk-container-id-7 div.sk-toggleable {background-color: white;}#sk-container-id-7 label.sk-toggleable__label {cursor: pointer;display: block;width: 100%;margin-bottom: 0;padding: 0.3em;box-sizing: border-box;text-align: center;}#sk-container-id-7 label.sk-toggleable__label-arrow:before {content: \"▸\";float: left;margin-right: 0.25em;color: #696969;}#sk-container-id-7 label.sk-toggleable__label-arrow:hover:before {color: black;}#sk-container-id-7 div.sk-estimator:hover label.sk-toggleable__label-arrow:before {color: black;}#sk-container-id-7 div.sk-toggleable__content {max-height: 0;max-width: 0;overflow: hidden;text-align: left;background-color: #f0f8ff;}#sk-container-id-7 div.sk-toggleable__content pre {margin: 0.2em;color: black;border-radius: 0.25em;background-color: #f0f8ff;}#sk-container-id-7 input.sk-toggleable__control:checked~div.sk-toggleable__content {max-height: 200px;max-width: 100%;overflow: auto;}#sk-container-id-7 input.sk-toggleable__control:checked~label.sk-toggleable__label-arrow:before {content: \"▾\";}#sk-container-id-7 div.sk-estimator input.sk-toggleable__control:checked~label.sk-toggleable__label {background-color: #d4ebff;}#sk-container-id-7 div.sk-label input.sk-toggleable__control:checked~label.sk-toggleable__label {background-color: #d4ebff;}#sk-container-id-7 input.sk-hidden--visually {border: 0;clip: rect(1px 1px 1px 1px);clip: rect(1px, 1px, 1px, 1px);height: 1px;margin: -1px;overflow: hidden;padding: 0;position: absolute;width: 1px;}#sk-container-id-7 div.sk-estimator {font-family: monospace;background-color: #f0f8ff;border: 1px dotted black;border-radius: 0.25em;box-sizing: border-box;margin-bottom: 0.5em;}#sk-container-id-7 div.sk-estimator:hover {background-color: #d4ebff;}#sk-container-id-7 div.sk-parallel-item::after {content: \"\";width: 100%;border-bottom: 1px solid gray;flex-grow: 1;}#sk-container-id-7 div.sk-label:hover label.sk-toggleable__label {background-color: #d4ebff;}#sk-container-id-7 div.sk-serial::before {content: \"\";position: absolute;border-left: 1px solid gray;box-sizing: border-box;top: 0;bottom: 0;left: 50%;z-index: 0;}#sk-container-id-7 div.sk-serial {display: flex;flex-direction: column;align-items: center;background-color: white;padding-right: 0.2em;padding-left: 0.2em;position: relative;}#sk-container-id-7 div.sk-item {position: relative;z-index: 1;}#sk-container-id-7 div.sk-parallel {display: flex;align-items: stretch;justify-content: center;background-color: white;position: relative;}#sk-container-id-7 div.sk-item::before, #sk-container-id-7 div.sk-parallel-item::before {content: \"\";position: absolute;border-left: 1px solid gray;box-sizing: border-box;top: 0;bottom: 0;left: 50%;z-index: -1;}#sk-container-id-7 div.sk-parallel-item {display: flex;flex-direction: column;z-index: 1;position: relative;background-color: white;}#sk-container-id-7 div.sk-parallel-item:first-child::after {align-self: flex-end;width: 50%;}#sk-container-id-7 div.sk-parallel-item:last-child::after {align-self: flex-start;width: 50%;}#sk-container-id-7 div.sk-parallel-item:only-child::after {width: 0;}#sk-container-id-7 div.sk-dashed-wrapped {border: 1px dashed gray;margin: 0 0.4em 0.5em 0.4em;box-sizing: border-box;padding-bottom: 0.4em;background-color: white;}#sk-container-id-7 div.sk-label label {font-family: monospace;font-weight: bold;display: inline-block;line-height: 1.2em;}#sk-container-id-7 div.sk-label-container {text-align: center;}#sk-container-id-7 div.sk-container {/* jupyter's `normalize.less` sets `[hidden] { display: none; }` but bootstrap.min.css set `[hidden] { display: none !important; }` so we also need the `!important` here to be able to override the default hidden behavior on the sphinx rendered scikit-learn.org. See: https://github.com/scikit-learn/scikit-learn/issues/21755 */display: inline-block !important;position: relative;}#sk-container-id-7 div.sk-text-repr-fallback {display: none;}</style><div id=\"sk-container-id-7\" class=\"sk-top-container\"><div class=\"sk-text-repr-fallback\"><pre>RandomForestClassifier(bootstrap=False, n_estimators=50)</pre><b>In a Jupyter environment, please rerun this cell to show the HTML representation or trust the notebook. <br />On GitHub, the HTML representation is unable to render, please try loading this page with nbviewer.org.</b></div><div class=\"sk-container\" hidden><div class=\"sk-item\"><div class=\"sk-estimator sk-toggleable\"><input class=\"sk-toggleable__control sk-hidden--visually\" id=\"sk-estimator-id-9\" type=\"checkbox\" checked><label for=\"sk-estimator-id-9\" class=\"sk-toggleable__label sk-toggleable__label-arrow\">RandomForestClassifier</label><div class=\"sk-toggleable__content\"><pre>RandomForestClassifier(bootstrap=False, n_estimators=50)</pre></div></div></div></div></div>"
      ],
      "text/plain": [
       "RandomForestClassifier(bootstrap=False, n_estimators=50)"
      ]
     },
     "execution_count": 81,
     "metadata": {},
     "output_type": "execute_result"
    }
   ],
   "source": [
    "# Getting the best estimator\n",
    "\n",
    "grid_cv.best_estimator_"
   ]
  },
  {
   "cell_type": "code",
   "execution_count": 62,
   "id": "4d96bd76",
   "metadata": {},
   "outputs": [
    {
     "name": "stdout",
     "output_type": "stream",
     "text": [
      "Maximum Score : 0.975\n"
     ]
    },
    {
     "data": {
      "text/html": [
       "<div>\n",
       "<style scoped>\n",
       "    .dataframe tbody tr th:only-of-type {\n",
       "        vertical-align: middle;\n",
       "    }\n",
       "\n",
       "    .dataframe tbody tr th {\n",
       "        vertical-align: top;\n",
       "    }\n",
       "\n",
       "    .dataframe thead th {\n",
       "        text-align: right;\n",
       "    }\n",
       "</style>\n",
       "<table border=\"1\" class=\"dataframe\">\n",
       "  <thead>\n",
       "    <tr style=\"text-align: right;\">\n",
       "      <th></th>\n",
       "      <th>mean_fit_time</th>\n",
       "      <th>std_fit_time</th>\n",
       "      <th>mean_score_time</th>\n",
       "      <th>std_score_time</th>\n",
       "      <th>param_bootstrap</th>\n",
       "      <th>param_max_depth</th>\n",
       "      <th>param_n_estimators</th>\n",
       "      <th>params</th>\n",
       "      <th>split0_test_score</th>\n",
       "      <th>split1_test_score</th>\n",
       "      <th>split2_test_score</th>\n",
       "      <th>split3_test_score</th>\n",
       "      <th>split4_test_score</th>\n",
       "      <th>mean_test_score</th>\n",
       "      <th>std_test_score</th>\n",
       "      <th>rank_test_score</th>\n",
       "    </tr>\n",
       "  </thead>\n",
       "  <tbody>\n",
       "    <tr>\n",
       "      <th>0</th>\n",
       "      <td>0.034369</td>\n",
       "      <td>0.011341</td>\n",
       "      <td>0.003204</td>\n",
       "      <td>0.003924</td>\n",
       "      <td>False</td>\n",
       "      <td>None</td>\n",
       "      <td>20</td>\n",
       "      <td>{'bootstrap': False, 'max_depth': None, 'n_est...</td>\n",
       "      <td>1.000000</td>\n",
       "      <td>0.916667</td>\n",
       "      <td>1.0</td>\n",
       "      <td>0.958333</td>\n",
       "      <td>0.956522</td>\n",
       "      <td>0.966304</td>\n",
       "      <td>0.031286</td>\n",
       "      <td>34</td>\n",
       "    </tr>\n",
       "    <tr>\n",
       "      <th>1</th>\n",
       "      <td>0.078529</td>\n",
       "      <td>0.009914</td>\n",
       "      <td>0.006419</td>\n",
       "      <td>0.007866</td>\n",
       "      <td>False</td>\n",
       "      <td>None</td>\n",
       "      <td>50</td>\n",
       "      <td>{'bootstrap': False, 'max_depth': None, 'n_est...</td>\n",
       "      <td>1.000000</td>\n",
       "      <td>0.916667</td>\n",
       "      <td>1.0</td>\n",
       "      <td>0.958333</td>\n",
       "      <td>1.000000</td>\n",
       "      <td>0.975000</td>\n",
       "      <td>0.033333</td>\n",
       "      <td>1</td>\n",
       "    </tr>\n",
       "    <tr>\n",
       "      <th>2</th>\n",
       "      <td>0.110037</td>\n",
       "      <td>0.004786</td>\n",
       "      <td>0.014417</td>\n",
       "      <td>0.003252</td>\n",
       "      <td>False</td>\n",
       "      <td>None</td>\n",
       "      <td>80</td>\n",
       "      <td>{'bootstrap': False, 'max_depth': None, 'n_est...</td>\n",
       "      <td>1.000000</td>\n",
       "      <td>0.916667</td>\n",
       "      <td>1.0</td>\n",
       "      <td>0.958333</td>\n",
       "      <td>1.000000</td>\n",
       "      <td>0.975000</td>\n",
       "      <td>0.033333</td>\n",
       "      <td>1</td>\n",
       "    </tr>\n",
       "    <tr>\n",
       "      <th>3</th>\n",
       "      <td>0.136001</td>\n",
       "      <td>0.007990</td>\n",
       "      <td>0.012563</td>\n",
       "      <td>0.006344</td>\n",
       "      <td>False</td>\n",
       "      <td>None</td>\n",
       "      <td>100</td>\n",
       "      <td>{'bootstrap': False, 'max_depth': None, 'n_est...</td>\n",
       "      <td>1.000000</td>\n",
       "      <td>0.916667</td>\n",
       "      <td>1.0</td>\n",
       "      <td>0.958333</td>\n",
       "      <td>1.000000</td>\n",
       "      <td>0.975000</td>\n",
       "      <td>0.033333</td>\n",
       "      <td>1</td>\n",
       "    </tr>\n",
       "    <tr>\n",
       "      <th>4</th>\n",
       "      <td>0.210536</td>\n",
       "      <td>0.007932</td>\n",
       "      <td>0.018757</td>\n",
       "      <td>0.006245</td>\n",
       "      <td>False</td>\n",
       "      <td>None</td>\n",
       "      <td>150</td>\n",
       "      <td>{'bootstrap': False, 'max_depth': None, 'n_est...</td>\n",
       "      <td>1.000000</td>\n",
       "      <td>0.916667</td>\n",
       "      <td>1.0</td>\n",
       "      <td>0.958333</td>\n",
       "      <td>1.000000</td>\n",
       "      <td>0.975000</td>\n",
       "      <td>0.033333</td>\n",
       "      <td>1</td>\n",
       "    </tr>\n",
       "    <tr>\n",
       "      <th>5</th>\n",
       "      <td>0.276528</td>\n",
       "      <td>0.009371</td>\n",
       "      <td>0.031381</td>\n",
       "      <td>0.003901</td>\n",
       "      <td>False</td>\n",
       "      <td>None</td>\n",
       "      <td>200</td>\n",
       "      <td>{'bootstrap': False, 'max_depth': None, 'n_est...</td>\n",
       "      <td>1.000000</td>\n",
       "      <td>0.916667</td>\n",
       "      <td>1.0</td>\n",
       "      <td>0.958333</td>\n",
       "      <td>1.000000</td>\n",
       "      <td>0.975000</td>\n",
       "      <td>0.033333</td>\n",
       "      <td>1</td>\n",
       "    </tr>\n",
       "    <tr>\n",
       "      <th>6</th>\n",
       "      <td>0.031236</td>\n",
       "      <td>0.000320</td>\n",
       "      <td>0.000000</td>\n",
       "      <td>0.000000</td>\n",
       "      <td>False</td>\n",
       "      <td>5</td>\n",
       "      <td>20</td>\n",
       "      <td>{'bootstrap': False, 'max_depth': 5, 'n_estima...</td>\n",
       "      <td>1.000000</td>\n",
       "      <td>0.916667</td>\n",
       "      <td>1.0</td>\n",
       "      <td>0.958333</td>\n",
       "      <td>1.000000</td>\n",
       "      <td>0.975000</td>\n",
       "      <td>0.033333</td>\n",
       "      <td>1</td>\n",
       "    </tr>\n",
       "    <tr>\n",
       "      <th>7</th>\n",
       "      <td>0.073524</td>\n",
       "      <td>0.006828</td>\n",
       "      <td>0.003578</td>\n",
       "      <td>0.004496</td>\n",
       "      <td>False</td>\n",
       "      <td>5</td>\n",
       "      <td>50</td>\n",
       "      <td>{'bootstrap': False, 'max_depth': 5, 'n_estima...</td>\n",
       "      <td>1.000000</td>\n",
       "      <td>0.916667</td>\n",
       "      <td>1.0</td>\n",
       "      <td>0.958333</td>\n",
       "      <td>1.000000</td>\n",
       "      <td>0.975000</td>\n",
       "      <td>0.033333</td>\n",
       "      <td>1</td>\n",
       "    </tr>\n",
       "    <tr>\n",
       "      <th>8</th>\n",
       "      <td>0.109848</td>\n",
       "      <td>0.000002</td>\n",
       "      <td>0.015722</td>\n",
       "      <td>0.000173</td>\n",
       "      <td>False</td>\n",
       "      <td>5</td>\n",
       "      <td>80</td>\n",
       "      <td>{'bootstrap': False, 'max_depth': 5, 'n_estima...</td>\n",
       "      <td>1.000000</td>\n",
       "      <td>0.916667</td>\n",
       "      <td>1.0</td>\n",
       "      <td>0.958333</td>\n",
       "      <td>1.000000</td>\n",
       "      <td>0.975000</td>\n",
       "      <td>0.033333</td>\n",
       "      <td>1</td>\n",
       "    </tr>\n",
       "    <tr>\n",
       "      <th>9</th>\n",
       "      <td>0.135950</td>\n",
       "      <td>0.006849</td>\n",
       "      <td>0.015624</td>\n",
       "      <td>0.000009</td>\n",
       "      <td>False</td>\n",
       "      <td>5</td>\n",
       "      <td>100</td>\n",
       "      <td>{'bootstrap': False, 'max_depth': 5, 'n_estima...</td>\n",
       "      <td>1.000000</td>\n",
       "      <td>0.916667</td>\n",
       "      <td>1.0</td>\n",
       "      <td>0.958333</td>\n",
       "      <td>1.000000</td>\n",
       "      <td>0.975000</td>\n",
       "      <td>0.033333</td>\n",
       "      <td>1</td>\n",
       "    </tr>\n",
       "    <tr>\n",
       "      <th>10</th>\n",
       "      <td>0.203884</td>\n",
       "      <td>0.000238</td>\n",
       "      <td>0.022090</td>\n",
       "      <td>0.007491</td>\n",
       "      <td>False</td>\n",
       "      <td>5</td>\n",
       "      <td>150</td>\n",
       "      <td>{'bootstrap': False, 'max_depth': 5, 'n_estima...</td>\n",
       "      <td>1.000000</td>\n",
       "      <td>0.916667</td>\n",
       "      <td>1.0</td>\n",
       "      <td>0.958333</td>\n",
       "      <td>1.000000</td>\n",
       "      <td>0.975000</td>\n",
       "      <td>0.033333</td>\n",
       "      <td>1</td>\n",
       "    </tr>\n",
       "    <tr>\n",
       "      <th>11</th>\n",
       "      <td>0.281295</td>\n",
       "      <td>0.007971</td>\n",
       "      <td>0.029524</td>\n",
       "      <td>0.003687</td>\n",
       "      <td>False</td>\n",
       "      <td>5</td>\n",
       "      <td>200</td>\n",
       "      <td>{'bootstrap': False, 'max_depth': 5, 'n_estima...</td>\n",
       "      <td>1.000000</td>\n",
       "      <td>0.916667</td>\n",
       "      <td>1.0</td>\n",
       "      <td>0.958333</td>\n",
       "      <td>1.000000</td>\n",
       "      <td>0.975000</td>\n",
       "      <td>0.033333</td>\n",
       "      <td>1</td>\n",
       "    </tr>\n",
       "    <tr>\n",
       "      <th>12</th>\n",
       "      <td>0.025097</td>\n",
       "      <td>0.007732</td>\n",
       "      <td>0.006250</td>\n",
       "      <td>0.007655</td>\n",
       "      <td>False</td>\n",
       "      <td>10</td>\n",
       "      <td>20</td>\n",
       "      <td>{'bootstrap': False, 'max_depth': 10, 'n_estim...</td>\n",
       "      <td>0.958333</td>\n",
       "      <td>0.916667</td>\n",
       "      <td>1.0</td>\n",
       "      <td>0.958333</td>\n",
       "      <td>1.000000</td>\n",
       "      <td>0.966667</td>\n",
       "      <td>0.031180</td>\n",
       "      <td>30</td>\n",
       "    </tr>\n",
       "    <tr>\n",
       "      <th>13</th>\n",
       "      <td>0.063097</td>\n",
       "      <td>0.000497</td>\n",
       "      <td>0.009158</td>\n",
       "      <td>0.007488</td>\n",
       "      <td>False</td>\n",
       "      <td>10</td>\n",
       "      <td>50</td>\n",
       "      <td>{'bootstrap': False, 'max_depth': 10, 'n_estim...</td>\n",
       "      <td>1.000000</td>\n",
       "      <td>0.916667</td>\n",
       "      <td>1.0</td>\n",
       "      <td>0.958333</td>\n",
       "      <td>1.000000</td>\n",
       "      <td>0.975000</td>\n",
       "      <td>0.033333</td>\n",
       "      <td>1</td>\n",
       "    </tr>\n",
       "    <tr>\n",
       "      <th>14</th>\n",
       "      <td>0.116217</td>\n",
       "      <td>0.007551</td>\n",
       "      <td>0.009384</td>\n",
       "      <td>0.007662</td>\n",
       "      <td>False</td>\n",
       "      <td>10</td>\n",
       "      <td>80</td>\n",
       "      <td>{'bootstrap': False, 'max_depth': 10, 'n_estim...</td>\n",
       "      <td>1.000000</td>\n",
       "      <td>0.916667</td>\n",
       "      <td>1.0</td>\n",
       "      <td>0.958333</td>\n",
       "      <td>1.000000</td>\n",
       "      <td>0.975000</td>\n",
       "      <td>0.033333</td>\n",
       "      <td>1</td>\n",
       "    </tr>\n",
       "    <tr>\n",
       "      <th>15</th>\n",
       "      <td>0.138208</td>\n",
       "      <td>0.006352</td>\n",
       "      <td>0.015710</td>\n",
       "      <td>0.000177</td>\n",
       "      <td>False</td>\n",
       "      <td>10</td>\n",
       "      <td>100</td>\n",
       "      <td>{'bootstrap': False, 'max_depth': 10, 'n_estim...</td>\n",
       "      <td>1.000000</td>\n",
       "      <td>0.916667</td>\n",
       "      <td>1.0</td>\n",
       "      <td>0.958333</td>\n",
       "      <td>0.956522</td>\n",
       "      <td>0.966304</td>\n",
       "      <td>0.031286</td>\n",
       "      <td>34</td>\n",
       "    </tr>\n",
       "    <tr>\n",
       "      <th>16</th>\n",
       "      <td>0.204063</td>\n",
       "      <td>0.000016</td>\n",
       "      <td>0.025186</td>\n",
       "      <td>0.007614</td>\n",
       "      <td>False</td>\n",
       "      <td>10</td>\n",
       "      <td>150</td>\n",
       "      <td>{'bootstrap': False, 'max_depth': 10, 'n_estim...</td>\n",
       "      <td>1.000000</td>\n",
       "      <td>0.916667</td>\n",
       "      <td>1.0</td>\n",
       "      <td>0.958333</td>\n",
       "      <td>1.000000</td>\n",
       "      <td>0.975000</td>\n",
       "      <td>0.033333</td>\n",
       "      <td>1</td>\n",
       "    </tr>\n",
       "    <tr>\n",
       "      <th>17</th>\n",
       "      <td>0.287168</td>\n",
       "      <td>0.017510</td>\n",
       "      <td>0.028082</td>\n",
       "      <td>0.005700</td>\n",
       "      <td>False</td>\n",
       "      <td>10</td>\n",
       "      <td>200</td>\n",
       "      <td>{'bootstrap': False, 'max_depth': 10, 'n_estim...</td>\n",
       "      <td>1.000000</td>\n",
       "      <td>0.916667</td>\n",
       "      <td>1.0</td>\n",
       "      <td>0.958333</td>\n",
       "      <td>1.000000</td>\n",
       "      <td>0.975000</td>\n",
       "      <td>0.033333</td>\n",
       "      <td>1</td>\n",
       "    </tr>\n",
       "    <tr>\n",
       "      <th>18</th>\n",
       "      <td>0.051400</td>\n",
       "      <td>0.004535</td>\n",
       "      <td>0.001604</td>\n",
       "      <td>0.003208</td>\n",
       "      <td>True</td>\n",
       "      <td>None</td>\n",
       "      <td>20</td>\n",
       "      <td>{'bootstrap': True, 'max_depth': None, 'n_esti...</td>\n",
       "      <td>1.000000</td>\n",
       "      <td>0.916667</td>\n",
       "      <td>1.0</td>\n",
       "      <td>0.958333</td>\n",
       "      <td>1.000000</td>\n",
       "      <td>0.975000</td>\n",
       "      <td>0.033333</td>\n",
       "      <td>1</td>\n",
       "    </tr>\n",
       "    <tr>\n",
       "      <th>19</th>\n",
       "      <td>0.099940</td>\n",
       "      <td>0.004181</td>\n",
       "      <td>0.009071</td>\n",
       "      <td>0.005171</td>\n",
       "      <td>True</td>\n",
       "      <td>None</td>\n",
       "      <td>50</td>\n",
       "      <td>{'bootstrap': True, 'max_depth': None, 'n_esti...</td>\n",
       "      <td>1.000000</td>\n",
       "      <td>0.916667</td>\n",
       "      <td>1.0</td>\n",
       "      <td>0.958333</td>\n",
       "      <td>1.000000</td>\n",
       "      <td>0.975000</td>\n",
       "      <td>0.033333</td>\n",
       "      <td>1</td>\n",
       "    </tr>\n",
       "    <tr>\n",
       "      <th>20</th>\n",
       "      <td>0.171955</td>\n",
       "      <td>0.015806</td>\n",
       "      <td>0.011241</td>\n",
       "      <td>0.005988</td>\n",
       "      <td>True</td>\n",
       "      <td>None</td>\n",
       "      <td>80</td>\n",
       "      <td>{'bootstrap': True, 'max_depth': None, 'n_esti...</td>\n",
       "      <td>1.000000</td>\n",
       "      <td>0.916667</td>\n",
       "      <td>1.0</td>\n",
       "      <td>0.958333</td>\n",
       "      <td>1.000000</td>\n",
       "      <td>0.975000</td>\n",
       "      <td>0.033333</td>\n",
       "      <td>1</td>\n",
       "    </tr>\n",
       "    <tr>\n",
       "      <th>21</th>\n",
       "      <td>0.210124</td>\n",
       "      <td>0.007287</td>\n",
       "      <td>0.015523</td>\n",
       "      <td>0.003528</td>\n",
       "      <td>True</td>\n",
       "      <td>None</td>\n",
       "      <td>100</td>\n",
       "      <td>{'bootstrap': True, 'max_depth': None, 'n_esti...</td>\n",
       "      <td>1.000000</td>\n",
       "      <td>0.916667</td>\n",
       "      <td>1.0</td>\n",
       "      <td>0.958333</td>\n",
       "      <td>1.000000</td>\n",
       "      <td>0.975000</td>\n",
       "      <td>0.033333</td>\n",
       "      <td>1</td>\n",
       "    </tr>\n",
       "    <tr>\n",
       "      <th>22</th>\n",
       "      <td>0.319988</td>\n",
       "      <td>0.012753</td>\n",
       "      <td>0.020364</td>\n",
       "      <td>0.006620</td>\n",
       "      <td>True</td>\n",
       "      <td>None</td>\n",
       "      <td>150</td>\n",
       "      <td>{'bootstrap': True, 'max_depth': None, 'n_esti...</td>\n",
       "      <td>1.000000</td>\n",
       "      <td>0.916667</td>\n",
       "      <td>1.0</td>\n",
       "      <td>0.958333</td>\n",
       "      <td>1.000000</td>\n",
       "      <td>0.975000</td>\n",
       "      <td>0.033333</td>\n",
       "      <td>1</td>\n",
       "    </tr>\n",
       "    <tr>\n",
       "      <th>23</th>\n",
       "      <td>0.397126</td>\n",
       "      <td>0.013352</td>\n",
       "      <td>0.028424</td>\n",
       "      <td>0.007720</td>\n",
       "      <td>True</td>\n",
       "      <td>None</td>\n",
       "      <td>200</td>\n",
       "      <td>{'bootstrap': True, 'max_depth': None, 'n_esti...</td>\n",
       "      <td>1.000000</td>\n",
       "      <td>0.916667</td>\n",
       "      <td>1.0</td>\n",
       "      <td>0.958333</td>\n",
       "      <td>1.000000</td>\n",
       "      <td>0.975000</td>\n",
       "      <td>0.033333</td>\n",
       "      <td>1</td>\n",
       "    </tr>\n",
       "    <tr>\n",
       "      <th>24</th>\n",
       "      <td>0.038873</td>\n",
       "      <td>0.007749</td>\n",
       "      <td>0.008073</td>\n",
       "      <td>0.007256</td>\n",
       "      <td>True</td>\n",
       "      <td>5</td>\n",
       "      <td>20</td>\n",
       "      <td>{'bootstrap': True, 'max_depth': 5, 'n_estimat...</td>\n",
       "      <td>1.000000</td>\n",
       "      <td>0.916667</td>\n",
       "      <td>1.0</td>\n",
       "      <td>0.958333</td>\n",
       "      <td>1.000000</td>\n",
       "      <td>0.975000</td>\n",
       "      <td>0.033333</td>\n",
       "      <td>1</td>\n",
       "    </tr>\n",
       "    <tr>\n",
       "      <th>25</th>\n",
       "      <td>0.107716</td>\n",
       "      <td>0.006812</td>\n",
       "      <td>0.009125</td>\n",
       "      <td>0.005601</td>\n",
       "      <td>True</td>\n",
       "      <td>5</td>\n",
       "      <td>50</td>\n",
       "      <td>{'bootstrap': True, 'max_depth': 5, 'n_estimat...</td>\n",
       "      <td>0.958333</td>\n",
       "      <td>0.916667</td>\n",
       "      <td>1.0</td>\n",
       "      <td>0.958333</td>\n",
       "      <td>1.000000</td>\n",
       "      <td>0.966667</td>\n",
       "      <td>0.031180</td>\n",
       "      <td>30</td>\n",
       "    </tr>\n",
       "    <tr>\n",
       "      <th>26</th>\n",
       "      <td>0.170223</td>\n",
       "      <td>0.010352</td>\n",
       "      <td>0.013319</td>\n",
       "      <td>0.005657</td>\n",
       "      <td>True</td>\n",
       "      <td>5</td>\n",
       "      <td>80</td>\n",
       "      <td>{'bootstrap': True, 'max_depth': 5, 'n_estimat...</td>\n",
       "      <td>0.958333</td>\n",
       "      <td>0.916667</td>\n",
       "      <td>1.0</td>\n",
       "      <td>0.958333</td>\n",
       "      <td>1.000000</td>\n",
       "      <td>0.966667</td>\n",
       "      <td>0.031180</td>\n",
       "      <td>30</td>\n",
       "    </tr>\n",
       "    <tr>\n",
       "      <th>27</th>\n",
       "      <td>0.201227</td>\n",
       "      <td>0.011162</td>\n",
       "      <td>0.014753</td>\n",
       "      <td>0.005409</td>\n",
       "      <td>True</td>\n",
       "      <td>5</td>\n",
       "      <td>100</td>\n",
       "      <td>{'bootstrap': True, 'max_depth': 5, 'n_estimat...</td>\n",
       "      <td>1.000000</td>\n",
       "      <td>0.916667</td>\n",
       "      <td>1.0</td>\n",
       "      <td>0.958333</td>\n",
       "      <td>1.000000</td>\n",
       "      <td>0.975000</td>\n",
       "      <td>0.033333</td>\n",
       "      <td>1</td>\n",
       "    </tr>\n",
       "    <tr>\n",
       "      <th>28</th>\n",
       "      <td>0.297998</td>\n",
       "      <td>0.010885</td>\n",
       "      <td>0.020603</td>\n",
       "      <td>0.004833</td>\n",
       "      <td>True</td>\n",
       "      <td>5</td>\n",
       "      <td>150</td>\n",
       "      <td>{'bootstrap': True, 'max_depth': 5, 'n_estimat...</td>\n",
       "      <td>1.000000</td>\n",
       "      <td>0.916667</td>\n",
       "      <td>1.0</td>\n",
       "      <td>0.958333</td>\n",
       "      <td>1.000000</td>\n",
       "      <td>0.975000</td>\n",
       "      <td>0.033333</td>\n",
       "      <td>1</td>\n",
       "    </tr>\n",
       "    <tr>\n",
       "      <th>29</th>\n",
       "      <td>0.385716</td>\n",
       "      <td>0.009524</td>\n",
       "      <td>0.027824</td>\n",
       "      <td>0.004742</td>\n",
       "      <td>True</td>\n",
       "      <td>5</td>\n",
       "      <td>200</td>\n",
       "      <td>{'bootstrap': True, 'max_depth': 5, 'n_estimat...</td>\n",
       "      <td>1.000000</td>\n",
       "      <td>0.916667</td>\n",
       "      <td>1.0</td>\n",
       "      <td>0.958333</td>\n",
       "      <td>1.000000</td>\n",
       "      <td>0.975000</td>\n",
       "      <td>0.033333</td>\n",
       "      <td>1</td>\n",
       "    </tr>\n",
       "    <tr>\n",
       "      <th>30</th>\n",
       "      <td>0.038791</td>\n",
       "      <td>0.004359</td>\n",
       "      <td>0.002614</td>\n",
       "      <td>0.005228</td>\n",
       "      <td>True</td>\n",
       "      <td>10</td>\n",
       "      <td>20</td>\n",
       "      <td>{'bootstrap': True, 'max_depth': 10, 'n_estima...</td>\n",
       "      <td>1.000000</td>\n",
       "      <td>0.916667</td>\n",
       "      <td>1.0</td>\n",
       "      <td>0.958333</td>\n",
       "      <td>0.956522</td>\n",
       "      <td>0.966304</td>\n",
       "      <td>0.031286</td>\n",
       "      <td>34</td>\n",
       "    </tr>\n",
       "    <tr>\n",
       "      <th>31</th>\n",
       "      <td>0.106149</td>\n",
       "      <td>0.003724</td>\n",
       "      <td>0.008477</td>\n",
       "      <td>0.001216</td>\n",
       "      <td>True</td>\n",
       "      <td>10</td>\n",
       "      <td>50</td>\n",
       "      <td>{'bootstrap': True, 'max_depth': 10, 'n_estima...</td>\n",
       "      <td>0.958333</td>\n",
       "      <td>0.916667</td>\n",
       "      <td>1.0</td>\n",
       "      <td>0.958333</td>\n",
       "      <td>1.000000</td>\n",
       "      <td>0.966667</td>\n",
       "      <td>0.031180</td>\n",
       "      <td>30</td>\n",
       "    </tr>\n",
       "    <tr>\n",
       "      <th>32</th>\n",
       "      <td>0.167192</td>\n",
       "      <td>0.006402</td>\n",
       "      <td>0.012615</td>\n",
       "      <td>0.004795</td>\n",
       "      <td>True</td>\n",
       "      <td>10</td>\n",
       "      <td>80</td>\n",
       "      <td>{'bootstrap': True, 'max_depth': 10, 'n_estima...</td>\n",
       "      <td>1.000000</td>\n",
       "      <td>0.916667</td>\n",
       "      <td>1.0</td>\n",
       "      <td>0.958333</td>\n",
       "      <td>1.000000</td>\n",
       "      <td>0.975000</td>\n",
       "      <td>0.033333</td>\n",
       "      <td>1</td>\n",
       "    </tr>\n",
       "    <tr>\n",
       "      <th>33</th>\n",
       "      <td>0.203894</td>\n",
       "      <td>0.007126</td>\n",
       "      <td>0.016116</td>\n",
       "      <td>0.004973</td>\n",
       "      <td>True</td>\n",
       "      <td>10</td>\n",
       "      <td>100</td>\n",
       "      <td>{'bootstrap': True, 'max_depth': 10, 'n_estima...</td>\n",
       "      <td>1.000000</td>\n",
       "      <td>0.916667</td>\n",
       "      <td>1.0</td>\n",
       "      <td>0.958333</td>\n",
       "      <td>1.000000</td>\n",
       "      <td>0.975000</td>\n",
       "      <td>0.033333</td>\n",
       "      <td>1</td>\n",
       "    </tr>\n",
       "    <tr>\n",
       "      <th>34</th>\n",
       "      <td>0.304433</td>\n",
       "      <td>0.009070</td>\n",
       "      <td>0.024565</td>\n",
       "      <td>0.005703</td>\n",
       "      <td>True</td>\n",
       "      <td>10</td>\n",
       "      <td>150</td>\n",
       "      <td>{'bootstrap': True, 'max_depth': 10, 'n_estima...</td>\n",
       "      <td>1.000000</td>\n",
       "      <td>0.916667</td>\n",
       "      <td>1.0</td>\n",
       "      <td>0.958333</td>\n",
       "      <td>1.000000</td>\n",
       "      <td>0.975000</td>\n",
       "      <td>0.033333</td>\n",
       "      <td>1</td>\n",
       "    </tr>\n",
       "    <tr>\n",
       "      <th>35</th>\n",
       "      <td>0.415065</td>\n",
       "      <td>0.014774</td>\n",
       "      <td>0.032513</td>\n",
       "      <td>0.001159</td>\n",
       "      <td>True</td>\n",
       "      <td>10</td>\n",
       "      <td>200</td>\n",
       "      <td>{'bootstrap': True, 'max_depth': 10, 'n_estima...</td>\n",
       "      <td>1.000000</td>\n",
       "      <td>0.916667</td>\n",
       "      <td>1.0</td>\n",
       "      <td>0.958333</td>\n",
       "      <td>1.000000</td>\n",
       "      <td>0.975000</td>\n",
       "      <td>0.033333</td>\n",
       "      <td>1</td>\n",
       "    </tr>\n",
       "  </tbody>\n",
       "</table>\n",
       "</div>"
      ],
      "text/plain": [
       "    mean_fit_time  std_fit_time  mean_score_time  std_score_time  \\\n",
       "0        0.034369      0.011341         0.003204        0.003924   \n",
       "1        0.078529      0.009914         0.006419        0.007866   \n",
       "2        0.110037      0.004786         0.014417        0.003252   \n",
       "3        0.136001      0.007990         0.012563        0.006344   \n",
       "4        0.210536      0.007932         0.018757        0.006245   \n",
       "5        0.276528      0.009371         0.031381        0.003901   \n",
       "6        0.031236      0.000320         0.000000        0.000000   \n",
       "7        0.073524      0.006828         0.003578        0.004496   \n",
       "8        0.109848      0.000002         0.015722        0.000173   \n",
       "9        0.135950      0.006849         0.015624        0.000009   \n",
       "10       0.203884      0.000238         0.022090        0.007491   \n",
       "11       0.281295      0.007971         0.029524        0.003687   \n",
       "12       0.025097      0.007732         0.006250        0.007655   \n",
       "13       0.063097      0.000497         0.009158        0.007488   \n",
       "14       0.116217      0.007551         0.009384        0.007662   \n",
       "15       0.138208      0.006352         0.015710        0.000177   \n",
       "16       0.204063      0.000016         0.025186        0.007614   \n",
       "17       0.287168      0.017510         0.028082        0.005700   \n",
       "18       0.051400      0.004535         0.001604        0.003208   \n",
       "19       0.099940      0.004181         0.009071        0.005171   \n",
       "20       0.171955      0.015806         0.011241        0.005988   \n",
       "21       0.210124      0.007287         0.015523        0.003528   \n",
       "22       0.319988      0.012753         0.020364        0.006620   \n",
       "23       0.397126      0.013352         0.028424        0.007720   \n",
       "24       0.038873      0.007749         0.008073        0.007256   \n",
       "25       0.107716      0.006812         0.009125        0.005601   \n",
       "26       0.170223      0.010352         0.013319        0.005657   \n",
       "27       0.201227      0.011162         0.014753        0.005409   \n",
       "28       0.297998      0.010885         0.020603        0.004833   \n",
       "29       0.385716      0.009524         0.027824        0.004742   \n",
       "30       0.038791      0.004359         0.002614        0.005228   \n",
       "31       0.106149      0.003724         0.008477        0.001216   \n",
       "32       0.167192      0.006402         0.012615        0.004795   \n",
       "33       0.203894      0.007126         0.016116        0.004973   \n",
       "34       0.304433      0.009070         0.024565        0.005703   \n",
       "35       0.415065      0.014774         0.032513        0.001159   \n",
       "\n",
       "   param_bootstrap param_max_depth param_n_estimators  \\\n",
       "0            False            None                 20   \n",
       "1            False            None                 50   \n",
       "2            False            None                 80   \n",
       "3            False            None                100   \n",
       "4            False            None                150   \n",
       "5            False            None                200   \n",
       "6            False               5                 20   \n",
       "7            False               5                 50   \n",
       "8            False               5                 80   \n",
       "9            False               5                100   \n",
       "10           False               5                150   \n",
       "11           False               5                200   \n",
       "12           False              10                 20   \n",
       "13           False              10                 50   \n",
       "14           False              10                 80   \n",
       "15           False              10                100   \n",
       "16           False              10                150   \n",
       "17           False              10                200   \n",
       "18            True            None                 20   \n",
       "19            True            None                 50   \n",
       "20            True            None                 80   \n",
       "21            True            None                100   \n",
       "22            True            None                150   \n",
       "23            True            None                200   \n",
       "24            True               5                 20   \n",
       "25            True               5                 50   \n",
       "26            True               5                 80   \n",
       "27            True               5                100   \n",
       "28            True               5                150   \n",
       "29            True               5                200   \n",
       "30            True              10                 20   \n",
       "31            True              10                 50   \n",
       "32            True              10                 80   \n",
       "33            True              10                100   \n",
       "34            True              10                150   \n",
       "35            True              10                200   \n",
       "\n",
       "                                               params  split0_test_score  \\\n",
       "0   {'bootstrap': False, 'max_depth': None, 'n_est...           1.000000   \n",
       "1   {'bootstrap': False, 'max_depth': None, 'n_est...           1.000000   \n",
       "2   {'bootstrap': False, 'max_depth': None, 'n_est...           1.000000   \n",
       "3   {'bootstrap': False, 'max_depth': None, 'n_est...           1.000000   \n",
       "4   {'bootstrap': False, 'max_depth': None, 'n_est...           1.000000   \n",
       "5   {'bootstrap': False, 'max_depth': None, 'n_est...           1.000000   \n",
       "6   {'bootstrap': False, 'max_depth': 5, 'n_estima...           1.000000   \n",
       "7   {'bootstrap': False, 'max_depth': 5, 'n_estima...           1.000000   \n",
       "8   {'bootstrap': False, 'max_depth': 5, 'n_estima...           1.000000   \n",
       "9   {'bootstrap': False, 'max_depth': 5, 'n_estima...           1.000000   \n",
       "10  {'bootstrap': False, 'max_depth': 5, 'n_estima...           1.000000   \n",
       "11  {'bootstrap': False, 'max_depth': 5, 'n_estima...           1.000000   \n",
       "12  {'bootstrap': False, 'max_depth': 10, 'n_estim...           0.958333   \n",
       "13  {'bootstrap': False, 'max_depth': 10, 'n_estim...           1.000000   \n",
       "14  {'bootstrap': False, 'max_depth': 10, 'n_estim...           1.000000   \n",
       "15  {'bootstrap': False, 'max_depth': 10, 'n_estim...           1.000000   \n",
       "16  {'bootstrap': False, 'max_depth': 10, 'n_estim...           1.000000   \n",
       "17  {'bootstrap': False, 'max_depth': 10, 'n_estim...           1.000000   \n",
       "18  {'bootstrap': True, 'max_depth': None, 'n_esti...           1.000000   \n",
       "19  {'bootstrap': True, 'max_depth': None, 'n_esti...           1.000000   \n",
       "20  {'bootstrap': True, 'max_depth': None, 'n_esti...           1.000000   \n",
       "21  {'bootstrap': True, 'max_depth': None, 'n_esti...           1.000000   \n",
       "22  {'bootstrap': True, 'max_depth': None, 'n_esti...           1.000000   \n",
       "23  {'bootstrap': True, 'max_depth': None, 'n_esti...           1.000000   \n",
       "24  {'bootstrap': True, 'max_depth': 5, 'n_estimat...           1.000000   \n",
       "25  {'bootstrap': True, 'max_depth': 5, 'n_estimat...           0.958333   \n",
       "26  {'bootstrap': True, 'max_depth': 5, 'n_estimat...           0.958333   \n",
       "27  {'bootstrap': True, 'max_depth': 5, 'n_estimat...           1.000000   \n",
       "28  {'bootstrap': True, 'max_depth': 5, 'n_estimat...           1.000000   \n",
       "29  {'bootstrap': True, 'max_depth': 5, 'n_estimat...           1.000000   \n",
       "30  {'bootstrap': True, 'max_depth': 10, 'n_estima...           1.000000   \n",
       "31  {'bootstrap': True, 'max_depth': 10, 'n_estima...           0.958333   \n",
       "32  {'bootstrap': True, 'max_depth': 10, 'n_estima...           1.000000   \n",
       "33  {'bootstrap': True, 'max_depth': 10, 'n_estima...           1.000000   \n",
       "34  {'bootstrap': True, 'max_depth': 10, 'n_estima...           1.000000   \n",
       "35  {'bootstrap': True, 'max_depth': 10, 'n_estima...           1.000000   \n",
       "\n",
       "    split1_test_score  split2_test_score  split3_test_score  \\\n",
       "0            0.916667                1.0           0.958333   \n",
       "1            0.916667                1.0           0.958333   \n",
       "2            0.916667                1.0           0.958333   \n",
       "3            0.916667                1.0           0.958333   \n",
       "4            0.916667                1.0           0.958333   \n",
       "5            0.916667                1.0           0.958333   \n",
       "6            0.916667                1.0           0.958333   \n",
       "7            0.916667                1.0           0.958333   \n",
       "8            0.916667                1.0           0.958333   \n",
       "9            0.916667                1.0           0.958333   \n",
       "10           0.916667                1.0           0.958333   \n",
       "11           0.916667                1.0           0.958333   \n",
       "12           0.916667                1.0           0.958333   \n",
       "13           0.916667                1.0           0.958333   \n",
       "14           0.916667                1.0           0.958333   \n",
       "15           0.916667                1.0           0.958333   \n",
       "16           0.916667                1.0           0.958333   \n",
       "17           0.916667                1.0           0.958333   \n",
       "18           0.916667                1.0           0.958333   \n",
       "19           0.916667                1.0           0.958333   \n",
       "20           0.916667                1.0           0.958333   \n",
       "21           0.916667                1.0           0.958333   \n",
       "22           0.916667                1.0           0.958333   \n",
       "23           0.916667                1.0           0.958333   \n",
       "24           0.916667                1.0           0.958333   \n",
       "25           0.916667                1.0           0.958333   \n",
       "26           0.916667                1.0           0.958333   \n",
       "27           0.916667                1.0           0.958333   \n",
       "28           0.916667                1.0           0.958333   \n",
       "29           0.916667                1.0           0.958333   \n",
       "30           0.916667                1.0           0.958333   \n",
       "31           0.916667                1.0           0.958333   \n",
       "32           0.916667                1.0           0.958333   \n",
       "33           0.916667                1.0           0.958333   \n",
       "34           0.916667                1.0           0.958333   \n",
       "35           0.916667                1.0           0.958333   \n",
       "\n",
       "    split4_test_score  mean_test_score  std_test_score  rank_test_score  \n",
       "0            0.956522         0.966304        0.031286               34  \n",
       "1            1.000000         0.975000        0.033333                1  \n",
       "2            1.000000         0.975000        0.033333                1  \n",
       "3            1.000000         0.975000        0.033333                1  \n",
       "4            1.000000         0.975000        0.033333                1  \n",
       "5            1.000000         0.975000        0.033333                1  \n",
       "6            1.000000         0.975000        0.033333                1  \n",
       "7            1.000000         0.975000        0.033333                1  \n",
       "8            1.000000         0.975000        0.033333                1  \n",
       "9            1.000000         0.975000        0.033333                1  \n",
       "10           1.000000         0.975000        0.033333                1  \n",
       "11           1.000000         0.975000        0.033333                1  \n",
       "12           1.000000         0.966667        0.031180               30  \n",
       "13           1.000000         0.975000        0.033333                1  \n",
       "14           1.000000         0.975000        0.033333                1  \n",
       "15           0.956522         0.966304        0.031286               34  \n",
       "16           1.000000         0.975000        0.033333                1  \n",
       "17           1.000000         0.975000        0.033333                1  \n",
       "18           1.000000         0.975000        0.033333                1  \n",
       "19           1.000000         0.975000        0.033333                1  \n",
       "20           1.000000         0.975000        0.033333                1  \n",
       "21           1.000000         0.975000        0.033333                1  \n",
       "22           1.000000         0.975000        0.033333                1  \n",
       "23           1.000000         0.975000        0.033333                1  \n",
       "24           1.000000         0.975000        0.033333                1  \n",
       "25           1.000000         0.966667        0.031180               30  \n",
       "26           1.000000         0.966667        0.031180               30  \n",
       "27           1.000000         0.975000        0.033333                1  \n",
       "28           1.000000         0.975000        0.033333                1  \n",
       "29           1.000000         0.975000        0.033333                1  \n",
       "30           0.956522         0.966304        0.031286               34  \n",
       "31           1.000000         0.966667        0.031180               30  \n",
       "32           1.000000         0.975000        0.033333                1  \n",
       "33           1.000000         0.975000        0.033333                1  \n",
       "34           1.000000         0.975000        0.033333                1  \n",
       "35           1.000000         0.975000        0.033333                1  "
      ]
     },
     "execution_count": 62,
     "metadata": {},
     "output_type": "execute_result"
    }
   ],
   "source": [
    "# Cross Validation Results for each combination\n",
    "\n",
    "cv_results = pd.DataFrame(grid_cv.cv_results_)\n",
    "print(\"Maximum Score :\", cv_results['mean_test_score'].max())\n",
    "cv_results"
   ]
  },
  {
   "attachments": {},
   "cell_type": "markdown",
   "id": "acaeb797",
   "metadata": {},
   "source": [
    "#### Training the Model with Best Parameters\n"
   ]
  },
  {
   "cell_type": "code",
   "execution_count": 63,
   "id": "34e20b18",
   "metadata": {},
   "outputs": [
    {
     "data": {
      "text/html": [
       "<style>#sk-container-id-6 {color: black;background-color: white;}#sk-container-id-6 pre{padding: 0;}#sk-container-id-6 div.sk-toggleable {background-color: white;}#sk-container-id-6 label.sk-toggleable__label {cursor: pointer;display: block;width: 100%;margin-bottom: 0;padding: 0.3em;box-sizing: border-box;text-align: center;}#sk-container-id-6 label.sk-toggleable__label-arrow:before {content: \"▸\";float: left;margin-right: 0.25em;color: #696969;}#sk-container-id-6 label.sk-toggleable__label-arrow:hover:before {color: black;}#sk-container-id-6 div.sk-estimator:hover label.sk-toggleable__label-arrow:before {color: black;}#sk-container-id-6 div.sk-toggleable__content {max-height: 0;max-width: 0;overflow: hidden;text-align: left;background-color: #f0f8ff;}#sk-container-id-6 div.sk-toggleable__content pre {margin: 0.2em;color: black;border-radius: 0.25em;background-color: #f0f8ff;}#sk-container-id-6 input.sk-toggleable__control:checked~div.sk-toggleable__content {max-height: 200px;max-width: 100%;overflow: auto;}#sk-container-id-6 input.sk-toggleable__control:checked~label.sk-toggleable__label-arrow:before {content: \"▾\";}#sk-container-id-6 div.sk-estimator input.sk-toggleable__control:checked~label.sk-toggleable__label {background-color: #d4ebff;}#sk-container-id-6 div.sk-label input.sk-toggleable__control:checked~label.sk-toggleable__label {background-color: #d4ebff;}#sk-container-id-6 input.sk-hidden--visually {border: 0;clip: rect(1px 1px 1px 1px);clip: rect(1px, 1px, 1px, 1px);height: 1px;margin: -1px;overflow: hidden;padding: 0;position: absolute;width: 1px;}#sk-container-id-6 div.sk-estimator {font-family: monospace;background-color: #f0f8ff;border: 1px dotted black;border-radius: 0.25em;box-sizing: border-box;margin-bottom: 0.5em;}#sk-container-id-6 div.sk-estimator:hover {background-color: #d4ebff;}#sk-container-id-6 div.sk-parallel-item::after {content: \"\";width: 100%;border-bottom: 1px solid gray;flex-grow: 1;}#sk-container-id-6 div.sk-label:hover label.sk-toggleable__label {background-color: #d4ebff;}#sk-container-id-6 div.sk-serial::before {content: \"\";position: absolute;border-left: 1px solid gray;box-sizing: border-box;top: 0;bottom: 0;left: 50%;z-index: 0;}#sk-container-id-6 div.sk-serial {display: flex;flex-direction: column;align-items: center;background-color: white;padding-right: 0.2em;padding-left: 0.2em;position: relative;}#sk-container-id-6 div.sk-item {position: relative;z-index: 1;}#sk-container-id-6 div.sk-parallel {display: flex;align-items: stretch;justify-content: center;background-color: white;position: relative;}#sk-container-id-6 div.sk-item::before, #sk-container-id-6 div.sk-parallel-item::before {content: \"\";position: absolute;border-left: 1px solid gray;box-sizing: border-box;top: 0;bottom: 0;left: 50%;z-index: -1;}#sk-container-id-6 div.sk-parallel-item {display: flex;flex-direction: column;z-index: 1;position: relative;background-color: white;}#sk-container-id-6 div.sk-parallel-item:first-child::after {align-self: flex-end;width: 50%;}#sk-container-id-6 div.sk-parallel-item:last-child::after {align-self: flex-start;width: 50%;}#sk-container-id-6 div.sk-parallel-item:only-child::after {width: 0;}#sk-container-id-6 div.sk-dashed-wrapped {border: 1px dashed gray;margin: 0 0.4em 0.5em 0.4em;box-sizing: border-box;padding-bottom: 0.4em;background-color: white;}#sk-container-id-6 div.sk-label label {font-family: monospace;font-weight: bold;display: inline-block;line-height: 1.2em;}#sk-container-id-6 div.sk-label-container {text-align: center;}#sk-container-id-6 div.sk-container {/* jupyter's `normalize.less` sets `[hidden] { display: none; }` but bootstrap.min.css set `[hidden] { display: none !important; }` so we also need the `!important` here to be able to override the default hidden behavior on the sphinx rendered scikit-learn.org. See: https://github.com/scikit-learn/scikit-learn/issues/21755 */display: inline-block !important;position: relative;}#sk-container-id-6 div.sk-text-repr-fallback {display: none;}</style><div id=\"sk-container-id-6\" class=\"sk-top-container\"><div class=\"sk-text-repr-fallback\"><pre>RandomForestClassifier(bootstrap=False, n_estimators=50)</pre><b>In a Jupyter environment, please rerun this cell to show the HTML representation or trust the notebook. <br />On GitHub, the HTML representation is unable to render, please try loading this page with nbviewer.org.</b></div><div class=\"sk-container\" hidden><div class=\"sk-item\"><div class=\"sk-estimator sk-toggleable\"><input class=\"sk-toggleable__control sk-hidden--visually\" id=\"sk-estimator-id-8\" type=\"checkbox\" checked><label for=\"sk-estimator-id-8\" class=\"sk-toggleable__label sk-toggleable__label-arrow\">RandomForestClassifier</label><div class=\"sk-toggleable__content\"><pre>RandomForestClassifier(bootstrap=False, n_estimators=50)</pre></div></div></div></div></div>"
      ],
      "text/plain": [
       "RandomForestClassifier(bootstrap=False, n_estimators=50)"
      ]
     },
     "execution_count": 63,
     "metadata": {},
     "output_type": "execute_result"
    }
   ],
   "source": [
    "# Training the Model\n",
    "\n",
    "model = grid_cv.best_estimator_\n",
    "\n",
    "model.fit(X_train_scaled, y_train)"
   ]
  },
  {
   "cell_type": "code",
   "execution_count": 64,
   "id": "9ebf1de3",
   "metadata": {},
   "outputs": [
    {
     "name": "stdout",
     "output_type": "stream",
     "text": [
      "Train Accuracy : 1.0\n"
     ]
    }
   ],
   "source": [
    "y_train_pred = model.predict(X_train_scaled)\n",
    "\n",
    "print(\"Train Accuracy :\", model.score(X_train_scaled, y_train))"
   ]
  },
  {
   "cell_type": "code",
   "execution_count": 65,
   "id": "5388437c",
   "metadata": {},
   "outputs": [
    {
     "data": {
      "image/png": "[encoded data removed]",
      "text/plain": [
       "<Figure size 432x288 with 2 Axes>"
      ]
     },
     "metadata": {
      "needs_background": "light"
     },
     "output_type": "display_data"
    }
   ],
   "source": [
    "# Confusion Matrix\n",
    "\n",
    "conf_matrix = metrics.confusion_matrix(y_train, y_train_pred)\n",
    "\n",
    "sns.heatmap(conf_matrix, annot = True)\n",
    "plt.show()"
   ]
  },
  {
   "cell_type": "code",
   "execution_count": 66,
   "id": "8ed8c353",
   "metadata": {},
   "outputs": [
    {
     "name": "stdout",
     "output_type": "stream",
     "text": [
      "Precision : 1.0\n",
      "Recall or Sensitivity : 1.0\n",
      "F1 Score : 1.0\n"
     ]
    }
   ],
   "source": [
    "# Classification Metrics\n",
    "\n",
    "precision = metrics.precision_score(y_train, y_train_pred, average = 'weighted')\n",
    "recall = metrics.recall_score(y_train, y_train_pred, average = 'weighted')\n",
    "f1 = metrics.f1_score(y_train, y_train_pred, average = 'weighted')\n",
    "\n",
    "print(\"Precision :\", precision)\n",
    "print(\"Recall or Sensitivity :\", recall)\n",
    "print(\"F1 Score :\", f1)"
   ]
  },
  {
   "cell_type": "code",
   "execution_count": 69,
   "id": "0b7ca96e",
   "metadata": {},
   "outputs": [
    {
     "name": "stdout",
     "output_type": "stream",
     "text": [
      "              precision    recall  f1-score   support\n",
      "\n",
      "           0       1.00      1.00      1.00        40\n",
      "           1       1.00      1.00      1.00        40\n",
      "           2       1.00      1.00      1.00        39\n",
      "\n",
      "    accuracy                           1.00       119\n",
      "   macro avg       1.00      1.00      1.00       119\n",
      "weighted avg       1.00      1.00      1.00       119\n",
      "\n"
     ]
    }
   ],
   "source": [
    "# Classification Report\n",
    "\n",
    "clf_report = metrics.classification_report(y_train, y_train_pred)\n",
    "\n",
    "print(clf_report)"
   ]
  },
  {
   "attachments": {},
   "cell_type": "markdown",
   "id": "a6207847",
   "metadata": {},
   "source": [
    "### Validating the Model\n"
   ]
  },
  {
   "cell_type": "code",
   "execution_count": 70,
   "id": "96e5b8ff",
   "metadata": {},
   "outputs": [
    {
     "name": "stdout",
     "output_type": "stream",
     "text": [
      "Test Accuracy : 0.9333333333333333\n"
     ]
    }
   ],
   "source": [
    "y_test_pred = model.predict(X_test_scaled)\n",
    "\n",
    "print(\"Test Accuracy :\", model.score(X_test_scaled, y_test))"
   ]
  },
  {
   "cell_type": "code",
   "execution_count": 71,
   "id": "d7227f68",
   "metadata": {},
   "outputs": [
    {
     "data": {
      "image/png": "[encoded data removed]",
      "text/plain": [
       "<Figure size 432x288 with 2 Axes>"
      ]
     },
     "metadata": {
      "needs_background": "light"
     },
     "output_type": "display_data"
    }
   ],
   "source": [
    "# Confusion Matrix\n",
    "\n",
    "conf_matrix = metrics.confusion_matrix(y_test, y_test_pred)\n",
    "\n",
    "sns.heatmap(conf_matrix, annot = True)\n",
    "plt.show()"
   ]
  },
  {
   "cell_type": "code",
   "execution_count": 72,
   "id": "2465bb9d",
   "metadata": {},
   "outputs": [
    {
     "name": "stdout",
     "output_type": "stream",
     "text": [
      "Precision : 0.9444444444444445\n",
      "Recall or Sensitivity : 0.9333333333333333\n",
      "F1 Score : 0.9326599326599326\n"
     ]
    }
   ],
   "source": [
    "# Classification Metrics\n",
    "\n",
    "precision = metrics.precision_score(y_test, y_test_pred, average = 'weighted')\n",
    "recall = metrics.recall_score(y_test, y_test_pred, average = 'weighted')\n",
    "f1 = metrics.f1_score(y_test, y_test_pred, average = 'weighted')\n",
    "\n",
    "print(\"Precision :\", precision)\n",
    "print(\"Recall or Sensitivity :\", recall)\n",
    "print(\"F1 Score :\", f1)"
   ]
  },
  {
   "cell_type": "code",
   "execution_count": 73,
   "id": "79e595f0",
   "metadata": {},
   "outputs": [
    {
     "name": "stdout",
     "output_type": "stream",
     "text": [
      "              precision    recall  f1-score   support\n",
      "\n",
      "           0       1.00      1.00      1.00        10\n",
      "           1       1.00      0.80      0.89        10\n",
      "           2       0.83      1.00      0.91        10\n",
      "\n",
      "    accuracy                           0.93        30\n",
      "   macro avg       0.94      0.93      0.93        30\n",
      "weighted avg       0.94      0.93      0.93        30\n",
      "\n"
     ]
    }
   ],
   "source": [
    "# Classification Report\n",
    "\n",
    "clf_report = metrics.classification_report(y_test, y_test_pred)\n",
    "\n",
    "print(clf_report)"
   ]
  },
  {
   "attachments": {},
   "cell_type": "markdown",
   "id": "59458a51",
   "metadata": {},
   "source": [
    "#### Cross Validation\n"
   ]
  },
  {
   "cell_type": "code",
   "execution_count": 74,
   "id": "58712cd7",
   "metadata": {},
   "outputs": [
    {
     "name": "stdout",
     "output_type": "stream",
     "text": [
      "[1.         0.93333333 1.         0.93333333 0.93333333 0.93333333\n",
      " 0.93333333 1.         1.         1.        ]\n",
      "Cross Validation Score (Average) : 0.9666666666666666\n"
     ]
    }
   ],
   "source": [
    "# Performing Cross Validation on whole dataset (Stratified K-Fold)\n",
    "\n",
    "scores = model_selection.cross_val_score(base.clone(model), X, y_, cv = 10)\n",
    "\n",
    "print(scores)\n",
    "print(\"Cross Validation Score (Average) :\", np.sum(scores) / len(scores))"
   ]
  },
  {
   "attachments": {},
   "cell_type": "markdown",
   "id": "16e231e8",
   "metadata": {},
   "source": [
    "# Conclusion\n"
   ]
  },
  {
   "attachments": {},
   "cell_type": "markdown",
   "id": "f010bae9",
   "metadata": {},
   "source": [
    "#### Best Estimator : Random Forest Classifier\n",
    "\n",
    "#### Best Parameters : ( bootstrap=False, n_estimators=50 )\n",
    "\n",
    "#### Train Score ( Accuracy ) : 1.0\n",
    "\n",
    "#### Test Score ( Accuracy ) : 0.93333333\n",
    "\n",
    "#### Average Cross Validation Score on Training Set ( cv = 10 ) : 0.975\n",
    "\n",
    "#### Average Cross Validation Score on Whole Data Set ( cv = 10 ) : 0.9666666\n"
   ]
  }
 ],
 "metadata": {
  "kernelspec": {
   "display_name": "Python 3 (ipykernel)",
   "language": "python",
   "name": "python3"
  },
  "language_info": {
   "codemirror_mode": {
    "name": "ipython",
    "version": 3
   },
   "file_extension": ".py",
   "mimetype": "text/x-python",
   "name": "python",
   "nbconvert_exporter": "python",
   "pygments_lexer": "ipython3",
   "version": "3.10.4"
  }
 },
 "nbformat": 4,
 "nbformat_minor": 5
}
